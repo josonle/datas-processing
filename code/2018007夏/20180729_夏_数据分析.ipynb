{
 "cells": [
  {
   "cell_type": "markdown",
   "metadata": {
    "tags": [
     "jupyter使用"
    ]
   },
   "source": [
    "## Jupyter Notebook常用快捷键\n",
    "- **M**切换markdown\n",
    "- **Y**切换code模式\n",
    "- **H**查询快捷键\n",
    "- **Shift Enter**运行并新生一个单元格\n",
    "- **Ctrl Enter**运行\n",
    "- **B**向下添加一个空单元格"
   ]
  },
  {
   "cell_type": "markdown",
   "metadata": {},
   "source": [
    "#### Python回顾\n",
    "- 恒等操作符（IS/IS NOT）\n",
    "    - type(2) is int\n",
    "- 向方法传递可变个数的参数 （*Args）\n",
    "- ord(\"A\")=65 将字母变为等价数字\n",
    "\n",
    "#### 代码风格\n",
    "- 方法名小写，驼峰写法OK\n",
    "- 私有方法首部以一个下划线开头"
   ]
  },
  {
   "cell_type": "markdown",
   "metadata": {},
   "source": [
    "##### 列表重点"
   ]
  },
  {
   "cell_type": "code",
   "execution_count": 47,
   "metadata": {},
   "outputs": [
    {
     "name": "stdout",
     "output_type": "stream",
     "text": [
      "[1, 2, 3, [4, 5, 6], 4, 5, 6]\n",
      "[1, 'insert', 2, 3, [4, 5, 6], 4, 5, 6]\n"
     ]
    },
    {
     "data": {
      "text/plain": [
       "[1, 2, 3, [4, 5, 6], 4, 5, 6]"
      ]
     },
     "execution_count": 47,
     "metadata": {},
     "output_type": "execute_result"
    }
   ],
   "source": [
    "#append,extend都是在末尾添加\n",
    "#append是添加元素，extend是连接列表（+号连接列表，会新建一个新的副本，效率更低）\n",
    "a = [1,2,3]\n",
    "b = [4,5,6]\n",
    "a.append(b)\n",
    "a.extend(b)\n",
    "print(a)\n",
    "#insert和分片赋值\n",
    "#强大的分片赋值\n",
    "a.insert(1,'insert')#等同于该分片赋值，a[1:1]=['insert1']\n",
    "print(a)\n",
    "#分片删值\n",
    "a[1:2]=[]#[1:1]是空分片，插入OK，但删除不能删个空片吧\n",
    "a"
   ]
  },
  {
   "cell_type": "markdown",
   "metadata": {},
   "source": [
    "#### 字典重要点\n",
    "- 键值不可变，也不能重复"
   ]
  },
  {
   "cell_type": "code",
   "execution_count": 64,
   "metadata": {},
   "outputs": [
    {
     "name": "stdout",
     "output_type": "stream",
     "text": [
      "{'username': 'josonle', 'age': 20, 'test': [1, 2, 3]}\n",
      "{'username': 'josonle', 'age': 20, 'test': [1, 2, 3]} {'username': 'lzw', 'age': 20, 'test': [1, 2, 3]}\n",
      "{'username': 'josonle', 'age': 20, 'test': [1, 2, 3]} {'username': 'lzw', 'test': [1, 2, 3]}\n",
      "{'username': 'josonle', 'age': 20, 'test': [1, 2]} {'username': 'lzw', 'test': [1, 2]}\n"
     ]
    }
   ],
   "source": [
    "#浅复制字典方法copy()\n",
    "#深复制copy模块的deepcopy()\n",
    "d={'username':'josonle','age':20,'test':[1,2,3]}\n",
    "dc = d.copy()\n",
    "print(dc)\n",
    "dc['username'] = 'lzw'\n",
    "print(d,dc)\n",
    "dc.pop('age')\n",
    "print(d,dc)\n",
    "dc['test'].pop()\n",
    "print(d,dc)\n",
    "#可见copy()方法，如果替换、删除某个值不会影响原字典，但是某个值仅仅是替换会影响到"
   ]
  },
  {
   "cell_type": "code",
   "execution_count": 73,
   "metadata": {},
   "outputs": [
    {
     "name": "stdout",
     "output_type": "stream",
     "text": [
      "{'username': 'josonle', 'age': 20, 'test': [1, 2, 3]} {'username': 'josonle', 'age': 20, 'test': [1, 2]}\n"
     ]
    }
   ],
   "source": [
    "from copy import deepcopy\n",
    "d={'username':'josonle','age':20,'test':[1,2,3]}\n",
    "dc = deepcopy(d)\n",
    "dc['test'].pop()\n",
    "print(d,dc)"
   ]
  },
  {
   "cell_type": "code",
   "execution_count": 72,
   "metadata": {},
   "outputs": [
    {
     "name": "stdout",
     "output_type": "stream",
     "text": [
      "value会自动赋None: {'username': None, 'age': None}\n",
      "可以添加默认值： {'username': 'null', 'age': 'null'}\n"
     ]
    }
   ],
   "source": [
    "#使用fromkeys新建字典\n",
    "d = {}.fromkeys(['username','age'])\n",
    "print('value会自动赋None:',d)\n",
    "d = {}.fromkeys(['username','age'],'null')\n",
    "print('可以添加默认值：',d)"
   ]
  },
  {
   "cell_type": "code",
   "execution_count": 77,
   "metadata": {},
   "outputs": [
    {
     "data": {
      "text/plain": [
       "{'age': 20, 'test': 1, 'username': 'josonle'}"
      ]
     },
     "execution_count": 77,
     "metadata": {},
     "output_type": "execute_result"
    }
   ],
   "source": [
    "#使用update(dict)更新字典，直接赋值也OK\n",
    "d['test']=None\n",
    "d.update({'test':1})\n",
    "d"
   ]
  },
  {
   "cell_type": "markdown",
   "metadata": {},
   "source": [
    "#### 迭代器\n",
    "- zip()\n",
    "- "
   ]
  },
  {
   "cell_type": "markdown",
   "metadata": {},
   "source": [
    "### Numpy\n",
    "- ndarray数组对象\n",
    "- ufunc处理数组的函数\n",
    "\n",
    "[【Python数据分析】Numpy的详细教程 ](https://zhuanlan.zhihu.com/p/24988491)"
   ]
  },
  {
   "cell_type": "markdown",
   "metadata": {},
   "source": [
    "#### ndarray属性\n",
    "- ndim：数组维度\n",
    "- shape：返回tuple，数组的行列\n",
    "- dtype：数组元素的类型\n",
    "- itemsize：返回数组每个元素的字节大小"
   ]
  },
  {
   "cell_type": "code",
   "execution_count": 70,
   "metadata": {},
   "outputs": [],
   "source": [
    "import numpy as np"
   ]
  },
  {
   "cell_type": "code",
   "execution_count": 71,
   "metadata": {},
   "outputs": [
    {
     "name": "stdout",
     "output_type": "stream",
     "text": [
      "维度： 2 shape: (2, 4)\n"
     ]
    },
    {
     "data": {
      "text/plain": [
       "array([[[1, 2, 3, 4]],\n",
       "\n",
       "       [[5, 6, 7, 8]]])"
      ]
     },
     "execution_count": 71,
     "metadata": {},
     "output_type": "execute_result"
    }
   ],
   "source": [
    "arr = np.array([[1,2,3,4],[5,6,7,8]])\n",
    "print('维度：',arr.ndim,'shape:',arr.shape)\n",
    "#改变shape，仅仅是改变每个轴数据多少\n",
    "arr.shape = 2,1,4\n",
    "arr"
   ]
  },
  {
   "cell_type": "markdown",
   "metadata": {},
   "source": [
    "#### 生成一维数组的方法\n",
    "- np.arange(a,b,c): 从c开始到b为止（不含b），步长c的一维数组\n",
    "- np.linspqace(a,b,c): 从a到b（含b）的c个数据的一维等差数组\n",
    "    - linspace(a,b,c=50,endpoint=true,retstep=false)，默认输出50个\n",
    "    - endpoint为False，不包含b\n",
    "    - retstep为True，显示步长（公差）\n",
    "- np.logspace(a,b,c): 创建等比数列，从$10^a$到$10^b$（含$10^b$）的c个数据的一维等比数列\n",
    "    - logspace(a,b,c=50,base=10,endpoint=True)，多了一个base参数，默认10\n",
    "    - base参数是下标，比如base=2，则$2^a$到$2^b$间"
   ]
  },
  {
   "cell_type": "code",
   "execution_count": 72,
   "metadata": {},
   "outputs": [
    {
     "data": {
      "text/plain": [
       "array([ 0. ,  0.2,  0.4,  0.6,  0.8])"
      ]
     },
     "execution_count": 72,
     "metadata": {},
     "output_type": "execute_result"
    }
   ],
   "source": [
    "np.arange(0,1,0.2)"
   ]
  },
  {
   "cell_type": "code",
   "execution_count": 13,
   "metadata": {},
   "outputs": [
    {
     "name": "stdout",
     "output_type": "stream",
     "text": [
      "(array([ 0. ,  0.2,  0.4,  0.6,  0.8]), 0.20000000000000001)\n",
      "步长： 0.2\n"
     ]
    },
    {
     "data": {
      "text/plain": [
       "array([ 0.  ,  0.25,  0.5 ,  0.75,  1.  ])"
      ]
     },
     "execution_count": 13,
     "metadata": {},
     "output_type": "execute_result"
    }
   ],
   "source": [
    "print(np.linspace(0,1,5,endpoint=False,retstep=True))\n",
    "print(\"步长：\",np.linspace(0,1,5,endpoint=False,retstep=True)[1])\n",
    "np.linspace(0,1,5)"
   ]
  },
  {
   "cell_type": "code",
   "execution_count": 14,
   "metadata": {},
   "outputs": [
    {
     "data": {
      "text/plain": [
       "array([ 1.        ,  1.58740105,  2.5198421 ,  4.        ])"
      ]
     },
     "execution_count": 14,
     "metadata": {},
     "output_type": "execute_result"
    }
   ],
   "source": [
    "# np.logspace(0,1,5)\n",
    "np.logspace(0,2,4,base=2)"
   ]
  },
  {
   "cell_type": "markdown",
   "metadata": {},
   "source": [
    "#### 生成多维数组的方法\n",
    "- np.zeros(shape): 生成几行几列的全0数组\n",
    "- np.diag([a,b,c,...]): 生成以 list 为对角线的矩阵，其余为0\n",
    "    - **挺重要，可取矩阵的对角线上数据**\n",
    "- np.eye(a): 生成以 1 为主对角线的 a 行矩阵\n",
    "    - eye(M,N=None,K=0)，M行N列的矩阵（默认N=M），K可以指明那一列对角线为1\n",
    "- np.identity(a)：生成主对角线为1的a行方阵\n",
    "- np.ones(shape): 生成几行几列的全 1 数组\n",
    "- np.empty(shape)：生成几行几列的空数组\n",
    "    - 注意：空不意味着值为0，而是任何的value,内存中没有被初始化的。\n",
    "- arr.fill(Value)：将数组重新用Value填满，常和empty一起用"
   ]
  },
  {
   "cell_type": "code",
   "execution_count": 15,
   "metadata": {},
   "outputs": [
    {
     "data": {
      "text/plain": [
       "array([[[ 0.,  0.],\n",
       "        [ 0.,  0.],\n",
       "        [ 0.,  0.]],\n",
       "\n",
       "       [[ 0.,  0.],\n",
       "        [ 0.,  0.],\n",
       "        [ 0.,  0.]]])"
      ]
     },
     "execution_count": 15,
     "metadata": {},
     "output_type": "execute_result"
    }
   ],
   "source": [
    "np.zeros((2,3,2))"
   ]
  },
  {
   "cell_type": "code",
   "execution_count": 16,
   "metadata": {},
   "outputs": [
    {
     "data": {
      "text/plain": [
       "array([[ 1.,  0.,  0.,  0.],\n",
       "       [ 0.,  1.,  0.,  0.],\n",
       "       [ 0.,  0.,  1.,  0.],\n",
       "       [ 0.,  0.,  0.,  1.]])"
      ]
     },
     "execution_count": 16,
     "metadata": {},
     "output_type": "execute_result"
    }
   ],
   "source": [
    "np.eye(4)"
   ]
  },
  {
   "cell_type": "code",
   "execution_count": 88,
   "metadata": {},
   "outputs": [
    {
     "name": "stdout",
     "output_type": "stream",
     "text": [
      "[[ 1.  0.]\n",
      " [ 0.  1.]\n",
      " [ 0.  0.]]\n"
     ]
    },
    {
     "data": {
      "text/plain": [
       "array([[ 0.,  0.],\n",
       "       [ 1.,  0.],\n",
       "       [ 0.,  1.]])"
      ]
     },
     "execution_count": 88,
     "metadata": {},
     "output_type": "execute_result"
    }
   ],
   "source": [
    "print(np.eye(3,2))\n",
    "np.eye(3,2,-1)"
   ]
  },
  {
   "cell_type": "code",
   "execution_count": 86,
   "metadata": {},
   "outputs": [
    {
     "data": {
      "text/plain": [
       "array([[ 1.,  0.,  0.],\n",
       "       [ 0.,  1.,  0.],\n",
       "       [ 0.,  0.,  1.]])"
      ]
     },
     "execution_count": 86,
     "metadata": {},
     "output_type": "execute_result"
    }
   ],
   "source": [
    "np.identity(3)"
   ]
  },
  {
   "cell_type": "code",
   "execution_count": 17,
   "metadata": {
    "scrolled": true
   },
   "outputs": [
    {
     "name": "stdout",
     "output_type": "stream",
     "text": [
      "Help on function diag in module numpy.lib.twodim_base:\n",
      "\n",
      "diag(v, k=0)\n",
      "    Extract a diagonal or construct a diagonal array.\n",
      "    \n",
      "    See the more detailed documentation for ``numpy.diagonal`` if you use this\n",
      "    function to extract a diagonal and wish to write to the resulting array;\n",
      "    whether it returns a copy or a view depends on what version of numpy you\n",
      "    are using.\n",
      "    \n",
      "    Parameters\n",
      "    ----------\n",
      "    v : array_like\n",
      "        If `v` is a 2-D array, return a copy of its `k`-th diagonal.\n",
      "        If `v` is a 1-D array, return a 2-D array with `v` on the `k`-th\n",
      "        diagonal.\n",
      "    k : int, optional\n",
      "        Diagonal in question. The default is 0. Use `k>0` for diagonals\n",
      "        above the main diagonal, and `k<0` for diagonals below the main\n",
      "        diagonal.\n",
      "    \n",
      "    Returns\n",
      "    -------\n",
      "    out : ndarray\n",
      "        The extracted diagonal or constructed diagonal array.\n",
      "    \n",
      "    See Also\n",
      "    --------\n",
      "    diagonal : Return specified diagonals.\n",
      "    diagflat : Create a 2-D array with the flattened input as a diagonal.\n",
      "    trace : Sum along diagonals.\n",
      "    triu : Upper triangle of an array.\n",
      "    tril : Lower triangle of an array.\n",
      "    \n",
      "    Examples\n",
      "    --------\n",
      "    >>> x = np.arange(9).reshape((3,3))\n",
      "    >>> x\n",
      "    array([[0, 1, 2],\n",
      "           [3, 4, 5],\n",
      "           [6, 7, 8]])\n",
      "    \n",
      "    >>> np.diag(x)\n",
      "    array([0, 4, 8])\n",
      "    >>> np.diag(x, k=1)\n",
      "    array([1, 5])\n",
      "    >>> np.diag(x, k=-1)\n",
      "    array([3, 7])\n",
      "    \n",
      "    >>> np.diag(np.diag(x))\n",
      "    array([[0, 0, 0],\n",
      "           [0, 4, 0],\n",
      "           [0, 0, 8]])\n",
      "\n"
     ]
    }
   ],
   "source": [
    "help(np.diag)"
   ]
  },
  {
   "cell_type": "code",
   "execution_count": 18,
   "metadata": {},
   "outputs": [
    {
     "data": {
      "text/plain": [
       "array([[1, 0, 0],\n",
       "       [0, 2, 0],\n",
       "       [0, 0, 3]])"
      ]
     },
     "execution_count": 18,
     "metadata": {},
     "output_type": "execute_result"
    }
   ],
   "source": [
    "np.diag([1,2,3])"
   ]
  },
  {
   "cell_type": "code",
   "execution_count": 19,
   "metadata": {},
   "outputs": [
    {
     "data": {
      "text/plain": [
       "array([[1, 2, 3, 4],\n",
       "       [5, 6, 7, 8],\n",
       "       [9, 8, 7, 6],\n",
       "       [5, 4, 3, 2]])"
      ]
     },
     "execution_count": 19,
     "metadata": {},
     "output_type": "execute_result"
    }
   ],
   "source": [
    "arr = np.array([[1,2,3,4],[5,6,7,8],[9,8,7,6],[5,4,3,2]])\n",
    "arr"
   ]
  },
  {
   "cell_type": "code",
   "execution_count": 20,
   "metadata": {},
   "outputs": [
    {
     "name": "stdout",
     "output_type": "stream",
     "text": [
      "[1 6 7 2]\n",
      "[2 7 6]\n",
      "[9 4]\n"
     ]
    }
   ],
   "source": [
    "print(np.diag(arr))\n",
    "print(np.diag(arr,1))\n",
    "print(np.diag(arr,-2))"
   ]
  },
  {
   "cell_type": "code",
   "execution_count": 99,
   "metadata": {},
   "outputs": [
    {
     "data": {
      "text/plain": [
       "array([[[ 1.,  1.],\n",
       "        [ 1.,  1.],\n",
       "        [ 1.,  1.]],\n",
       "\n",
       "       [[ 1.,  1.],\n",
       "        [ 1.,  1.],\n",
       "        [ 1.,  1.]]])"
      ]
     },
     "execution_count": 99,
     "metadata": {},
     "output_type": "execute_result"
    }
   ],
   "source": [
    "np.ones((2,3,2))"
   ]
  },
  {
   "cell_type": "markdown",
   "metadata": {},
   "source": [
    "#### 利用random模块生成（伪）随机数组\n",
    "- np.random.random((shape))\n",
    "- np.random.rand(shape)：均匀分布\n",
    "- np.random.randn(shape)：正态分布\n",
    "- np.random.randint(low,high=None,size=(shape))：指定上下限(不含上限)的int型随机数组\n",
    "    - 如果不提供high，则low就是上限"
   ]
  },
  {
   "cell_type": "code",
   "execution_count": 23,
   "metadata": {
    "scrolled": true
   },
   "outputs": [
    {
     "data": {
      "text/plain": [
       "array([[ 0.71989841,  0.12494185,  0.32974345],\n",
       "       [ 0.1948063 ,  0.07779789,  0.4709368 ]])"
      ]
     },
     "execution_count": 23,
     "metadata": {},
     "output_type": "execute_result"
    }
   ],
   "source": [
    "np.random.random((2,3))"
   ]
  },
  {
   "cell_type": "code",
   "execution_count": 89,
   "metadata": {},
   "outputs": [
    {
     "data": {
      "text/plain": [
       "array([[ 0.11396671,  0.45209123,  0.2277055 ],\n",
       "       [ 0.49934775,  0.84436453,  0.74712222],\n",
       "       [ 0.11287526,  0.60161053,  0.76510281]])"
      ]
     },
     "execution_count": 89,
     "metadata": {},
     "output_type": "execute_result"
    }
   ],
   "source": [
    "np.random.rand(3,3)"
   ]
  },
  {
   "cell_type": "code",
   "execution_count": 28,
   "metadata": {},
   "outputs": [
    {
     "data": {
      "text/plain": [
       "array([[ 0.10192405, -0.4812036 ,  0.89808382, -0.20317444,  0.14049996,\n",
       "        -0.46593152, -1.65632719, -0.65347466, -0.6796135 ,  0.27672644,\n",
       "         2.48461813,  0.73344194, -1.33366118, -0.56821763, -0.98658191,\n",
       "        -0.6101235 , -1.15057662,  0.27296846,  0.11949839,  1.19447121],\n",
       "       [ 0.24012023, -1.52267169, -1.29870975,  0.2313015 ,  0.86681907,\n",
       "        -0.43491738, -0.4723034 , -1.76864537, -0.46126694, -1.27851324,\n",
       "         0.61510308,  1.11900689, -1.31276449,  0.6208489 ,  0.76283272,\n",
       "        -1.50240191, -0.34983225,  0.15129925, -0.84636383, -0.7932725 ],\n",
       "       [ 0.51466851, -0.59004614, -0.2330279 , -0.03454349, -0.94383022,\n",
       "        -0.60802783, -1.84969004,  1.28882596, -0.52435041, -0.10032326,\n",
       "        -0.95095365,  1.01648065,  0.44810957,  0.96712467,  0.66527845,\n",
       "         0.69280862,  0.47812504,  1.18818404, -0.95723302,  0.2980651 ]])"
      ]
     },
     "execution_count": 28,
     "metadata": {},
     "output_type": "execute_result"
    }
   ],
   "source": [
    "np.random.randn(3,20)"
   ]
  },
  {
   "cell_type": "code",
   "execution_count": 42,
   "metadata": {},
   "outputs": [
    {
     "data": {
      "text/plain": [
       "array([[3, 1, 0, 7, 4, 6, 5, 0, 9, 7],\n",
       "       [7, 8, 9, 6, 3, 1, 7, 7, 3, 2],\n",
       "       [6, 3, 8, 9, 8, 9, 5, 9, 2, 8],\n",
       "       [5, 0, 6, 2, 2, 5, 9, 5, 8, 1]])"
      ]
     },
     "execution_count": 42,
     "metadata": {},
     "output_type": "execute_result"
    }
   ],
   "source": [
    "np.random.randint(0,10,size=(4,10))\n",
    "# np.random.randint(10,size=10)"
   ]
  },
  {
   "cell_type": "code",
   "execution_count": 43,
   "metadata": {},
   "outputs": [
    {
     "name": "stdout",
     "output_type": "stream",
     "text": [
      "Help on built-in function randint:\n",
      "\n",
      "randint(...) method of mtrand.RandomState instance\n",
      "    randint(low, high=None, size=None, dtype='l')\n",
      "    \n",
      "    Return random integers from `low` (inclusive) to `high` (exclusive).\n",
      "    \n",
      "    Return random integers from the \"discrete uniform\" distribution of\n",
      "    the specified dtype in the \"half-open\" interval [`low`, `high`). If\n",
      "    `high` is None (the default), then results are from [0, `low`).\n",
      "    \n",
      "    Parameters\n",
      "    ----------\n",
      "    low : int\n",
      "        Lowest (signed) integer to be drawn from the distribution (unless\n",
      "        ``high=None``, in which case this parameter is one above the\n",
      "        *highest* such integer).\n",
      "    high : int, optional\n",
      "        If provided, one above the largest (signed) integer to be drawn\n",
      "        from the distribution (see above for behavior if ``high=None``).\n",
      "    size : int or tuple of ints, optional\n",
      "        Output shape.  If the given shape is, e.g., ``(m, n, k)``, then\n",
      "        ``m * n * k`` samples are drawn.  Default is None, in which case a\n",
      "        single value is returned.\n",
      "    dtype : dtype, optional\n",
      "        Desired dtype of the result. All dtypes are determined by their\n",
      "        name, i.e., 'int64', 'int', etc, so byteorder is not available\n",
      "        and a specific precision may have different C types depending\n",
      "        on the platform. The default value is 'np.int'.\n",
      "    \n",
      "        .. versionadded:: 1.11.0\n",
      "    \n",
      "    Returns\n",
      "    -------\n",
      "    out : int or ndarray of ints\n",
      "        `size`-shaped array of random integers from the appropriate\n",
      "        distribution, or a single such random int if `size` not provided.\n",
      "    \n",
      "    See Also\n",
      "    --------\n",
      "    random.random_integers : similar to `randint`, only for the closed\n",
      "        interval [`low`, `high`], and 1 is the lowest value if `high` is\n",
      "        omitted. In particular, this other one is the one to use to generate\n",
      "        uniformly distributed discrete non-integers.\n",
      "    \n",
      "    Examples\n",
      "    --------\n",
      "    >>> np.random.randint(2, size=10)\n",
      "    array([1, 0, 0, 0, 1, 1, 0, 0, 1, 0])\n",
      "    >>> np.random.randint(1, size=10)\n",
      "    array([0, 0, 0, 0, 0, 0, 0, 0, 0, 0])\n",
      "    \n",
      "    Generate a 2 x 4 array of ints between 0 and 4, inclusive:\n",
      "    \n",
      "    >>> np.random.randint(5, size=(2, 4))\n",
      "    array([[4, 0, 2, 1],\n",
      "           [3, 2, 2, 0]])\n",
      "\n"
     ]
    }
   ],
   "source": [
    "help(np.random.randint)"
   ]
  },
  {
   "cell_type": "markdown",
   "metadata": {},
   "source": [
    "#### 索引使用\n",
    "- 每一维度上都可以和 list索引用法一样，并集\n",
    "- 每一维度可单独列出某些列(行)\n",
    "- 可使用布尔索引\n",
    "> 值得注意的是可以使用range(),如arr[range(0,100,5)]"
   ]
  },
  {
   "cell_type": "code",
   "execution_count": 46,
   "metadata": {},
   "outputs": [
    {
     "data": {
      "text/plain": [
       "array([[[6, 3, 1],\n",
       "        [7, 2, 2],\n",
       "        [9, 6, 0]],\n",
       "\n",
       "       [[2, 5, 1],\n",
       "        [4, 0, 8],\n",
       "        [9, 2, 0]],\n",
       "\n",
       "       [[3, 1, 6],\n",
       "        [8, 2, 1],\n",
       "        [4, 4, 4]]])"
      ]
     },
     "execution_count": 46,
     "metadata": {},
     "output_type": "execute_result"
    }
   ],
   "source": [
    "arr1 = np.random.randint(0,10,size=(3,3,3))\n",
    "arr1"
   ]
  },
  {
   "cell_type": "code",
   "execution_count": 49,
   "metadata": {},
   "outputs": [
    {
     "data": {
      "text/plain": [
       "array([[[2, 5, 1],\n",
       "        [4, 0, 8]],\n",
       "\n",
       "       [[3, 1, 6],\n",
       "        [8, 2, 1]]])"
      ]
     },
     "execution_count": 49,
     "metadata": {},
     "output_type": "execute_result"
    }
   ],
   "source": [
    "arr1[1:,0:2]"
   ]
  },
  {
   "cell_type": "code",
   "execution_count": 50,
   "metadata": {},
   "outputs": [
    {
     "data": {
      "text/plain": [
       "array([[[2, 5, 1],\n",
       "        [9, 2, 0]],\n",
       "\n",
       "       [[3, 1, 6],\n",
       "        [4, 4, 4]]])"
      ]
     },
     "execution_count": 50,
     "metadata": {},
     "output_type": "execute_result"
    }
   ],
   "source": [
    "arr1[1:,(0,2)]"
   ]
  },
  {
   "cell_type": "code",
   "execution_count": 69,
   "metadata": {},
   "outputs": [
    {
     "name": "stdout",
     "output_type": "stream",
     "text": [
      "[[[6 3 1]\n",
      "  [7 2 2]\n",
      "  [9 6 0]]\n",
      "\n",
      " [[2 5 1]\n",
      "  [4 0 8]\n",
      "  [9 2 0]]]\n"
     ]
    },
    {
     "data": {
      "text/plain": [
       "array([[[2, 2],\n",
       "        [6, 0]],\n",
       "\n",
       "       [[0, 8],\n",
       "        [2, 0]]])"
      ]
     },
     "execution_count": 69,
     "metadata": {},
     "output_type": "execute_result"
    }
   ],
   "source": [
    "arr_b = np.array([True,True,False])\n",
    "print(arr1[arr_b])\n",
    "arr1[arr_b,1:,1:]"
   ]
  },
  {
   "cell_type": "markdown",
   "metadata": {},
   "source": [
    "#### 四则运算\n",
    "- +、-、*、/ ：都是数据对应四则运算\n",
    "- *是按照元素对应相乘，和矩阵乘法不同\n",
    "- 矩阵乘法需使用dot()，**矩阵相乘要求前者列数等于后者行数**\n",
    "    - arr1.dot(arr2)\n",
    "    - np.dot(arr1,arr2)"
   ]
  },
  {
   "cell_type": "code",
   "execution_count": 107,
   "metadata": {},
   "outputs": [],
   "source": [
    "arr1 = np.array([[1,2,3],[0,1,2]])\n",
    "arr2 = np.ones((2,3))"
   ]
  },
  {
   "cell_type": "code",
   "execution_count": 115,
   "metadata": {},
   "outputs": [
    {
     "data": {
      "text/plain": [
       "array([[1, 2, 3],\n",
       "       [0, 1, 2]])"
      ]
     },
     "execution_count": 115,
     "metadata": {},
     "output_type": "execute_result"
    }
   ],
   "source": [
    "arr1"
   ]
  },
  {
   "cell_type": "code",
   "execution_count": 110,
   "metadata": {},
   "outputs": [
    {
     "data": {
      "text/plain": [
       "array([[ 1.,  1.,  1.],\n",
       "       [ 1.,  1.,  1.]])"
      ]
     },
     "execution_count": 110,
     "metadata": {},
     "output_type": "execute_result"
    }
   ],
   "source": [
    "arr2"
   ]
  },
  {
   "cell_type": "code",
   "execution_count": 111,
   "metadata": {},
   "outputs": [
    {
     "data": {
      "text/plain": [
       "array([[ 2.,  3.,  4.],\n",
       "       [ 1.,  2.,  3.]])"
      ]
     },
     "execution_count": 111,
     "metadata": {},
     "output_type": "execute_result"
    }
   ],
   "source": [
    "arr1 + arr2"
   ]
  },
  {
   "cell_type": "code",
   "execution_count": 112,
   "metadata": {},
   "outputs": [
    {
     "data": {
      "text/plain": [
       "array([[ 0.,  1.,  2.],\n",
       "       [-1.,  0.,  1.]])"
      ]
     },
     "execution_count": 112,
     "metadata": {},
     "output_type": "execute_result"
    }
   ],
   "source": [
    "arr1 - arr2"
   ]
  },
  {
   "cell_type": "code",
   "execution_count": 113,
   "metadata": {},
   "outputs": [
    {
     "data": {
      "text/plain": [
       "array([[ 1.,  2.,  3.],\n",
       "       [ 0.,  1.,  2.]])"
      ]
     },
     "execution_count": 113,
     "metadata": {},
     "output_type": "execute_result"
    }
   ],
   "source": [
    "arr1 * arr2"
   ]
  },
  {
   "cell_type": "code",
   "execution_count": 119,
   "metadata": {},
   "outputs": [],
   "source": [
    "arr3 = np.ones((3,2))"
   ]
  },
  {
   "cell_type": "code",
   "execution_count": 120,
   "metadata": {},
   "outputs": [
    {
     "name": "stdout",
     "output_type": "stream",
     "text": [
      "[[ 6.  6.]\n",
      " [ 3.  3.]]\n"
     ]
    },
    {
     "data": {
      "text/plain": [
       "array([[ 6.,  6.],\n",
       "       [ 3.,  3.]])"
      ]
     },
     "execution_count": 120,
     "metadata": {},
     "output_type": "execute_result"
    }
   ],
   "source": [
    "print(arr1.dot(arr3))\n",
    "np.dot(arr1,arr3)"
   ]
  },
  {
   "cell_type": "code",
   "execution_count": 124,
   "metadata": {},
   "outputs": [
    {
     "name": "stdout",
     "output_type": "stream",
     "text": [
      "[[[-1  0  1  2]]\n",
      "\n",
      " [[ 3  4  5  6]]]\n",
      "[[[0 1 2 3]]\n",
      "\n",
      " [[4 5 6 7]]]\n",
      "[[[-2 -1  0  1]]\n",
      "\n",
      " [[ 2  3  4  5]]]\n"
     ]
    },
    {
     "data": {
      "text/plain": [
       "array([[[-4, -2,  0,  2]],\n",
       "\n",
       "       [[ 4,  6,  8, 10]]])"
      ]
     },
     "execution_count": 124,
     "metadata": {},
     "output_type": "execute_result"
    }
   ],
   "source": [
    "print(arr)\n",
    "print(arr+1)\n",
    "#像 -=，*=都会对arr进行修改\n",
    "arr -=1\n",
    "print(arr)\n",
    "arr *2"
   ]
  },
  {
   "cell_type": "markdown",
   "metadata": {},
   "source": [
    "#### 统计运算\n",
    "- np.sum()，可以指定axis对哪一轴进行统计。**axis=0，纵轴；axis=1，横轴。以下方法通用**\n",
    "- np.mean，平均数\n",
    "- np.std()，标准差\n",
    "- np.var()，方差\n",
    "- np.max/min()，最大/小值\n",
    "- np.argmax/argmin()，返回最大/小值索引\n",
    "- np.cumsum/cumprod()，累加、累乘"
   ]
  },
  {
   "cell_type": "code",
   "execution_count": 125,
   "metadata": {},
   "outputs": [
    {
     "data": {
      "text/plain": [
       "array([[ 0,  1,  2,  3,  4],\n",
       "       [ 5,  6,  7,  8,  9],\n",
       "       [10, 11, 12, 13, 14],\n",
       "       [15, 16, 17, 18, 19]])"
      ]
     },
     "execution_count": 125,
     "metadata": {},
     "output_type": "execute_result"
    }
   ],
   "source": [
    "arr4 = np.arange(20).reshape(4,5)\n",
    "arr4"
   ]
  },
  {
   "cell_type": "code",
   "execution_count": 126,
   "metadata": {},
   "outputs": [
    {
     "name": "stdout",
     "output_type": "stream",
     "text": [
      "求和： 190\n",
      "对横轴求和： [10 35 60 85]\n",
      "对纵轴求和： [30 34 38 42 46]\n"
     ]
    }
   ],
   "source": [
    "print('求和：',np.sum(arr4))\n",
    "print('对横轴求和：',np.sum(arr4,axis=1))\n",
    "print('对纵轴求和：',np.sum(arr4,axis=0))"
   ]
  },
  {
   "cell_type": "code",
   "execution_count": 129,
   "metadata": {},
   "outputs": [
    {
     "name": "stdout",
     "output_type": "stream",
     "text": [
      "Max索引: 19 Min索引: 0\n"
     ]
    },
    {
     "data": {
      "text/plain": [
       "array([4, 4, 4, 4], dtype=int64)"
      ]
     },
     "execution_count": 129,
     "metadata": {},
     "output_type": "execute_result"
    }
   ],
   "source": [
    "print('Max索引:',np.argmax(arr4),'Min索引:',np.argmin(arr4))\n",
    "np.argmax(arr4,axis = 1)"
   ]
  },
  {
   "cell_type": "code",
   "execution_count": 131,
   "metadata": {},
   "outputs": [
    {
     "data": {
      "text/plain": [
       "array([ 0,  1,  3,  6, 10, 15, 21, 28, 36, 45], dtype=int32)"
      ]
     },
     "execution_count": 131,
     "metadata": {},
     "output_type": "execute_result"
    }
   ],
   "source": [
    "#累加\n",
    "np.cumsum(arr4[:2])"
   ]
  },
  {
   "cell_type": "code",
   "execution_count": 138,
   "metadata": {},
   "outputs": [
    {
     "data": {
      "text/plain": [
       "array([    5,    30,   210,  1680, 15120], dtype=int32)"
      ]
     },
     "execution_count": 138,
     "metadata": {},
     "output_type": "execute_result"
    }
   ],
   "source": [
    "#累乘\n",
    "np.cumprod(arr4[1])"
   ]
  },
  {
   "cell_type": "markdown",
   "metadata": {},
   "source": [
    "#### 多元组 np.ix_()方法\n",
    "> 比如你想计算 a+b*c，首先要考虑是否可以广播。但可以将a，b，c组成三元组来计算"
   ]
  },
  {
   "cell_type": "code",
   "execution_count": 153,
   "metadata": {},
   "outputs": [],
   "source": [
    "a = np.array([2,3,4,5])\n",
    "b = np.array([8,5,4])\n",
    "c = np.array([5,4,6,8,3])"
   ]
  },
  {
   "cell_type": "code",
   "execution_count": 156,
   "metadata": {},
   "outputs": [
    {
     "name": "stdout",
     "output_type": "stream",
     "text": [
      "ax shape: (4, 1, 1)\n"
     ]
    },
    {
     "data": {
      "text/plain": [
       "array([[[2]],\n",
       "\n",
       "       [[3]],\n",
       "\n",
       "       [[4]],\n",
       "\n",
       "       [[5]]])"
      ]
     },
     "execution_count": 156,
     "metadata": {},
     "output_type": "execute_result"
    }
   ],
   "source": [
    "ax,bx,cx = np.ix_(a,b,c)\n",
    "print('ax shape:',ax.shape)\n",
    "ax"
   ]
  },
  {
   "cell_type": "code",
   "execution_count": 157,
   "metadata": {},
   "outputs": [
    {
     "data": {
      "text/plain": [
       "array([[[42, 34, 50, 66, 26],\n",
       "        [27, 22, 32, 42, 17],\n",
       "        [22, 18, 26, 34, 14]],\n",
       "\n",
       "       [[43, 35, 51, 67, 27],\n",
       "        [28, 23, 33, 43, 18],\n",
       "        [23, 19, 27, 35, 15]],\n",
       "\n",
       "       [[44, 36, 52, 68, 28],\n",
       "        [29, 24, 34, 44, 19],\n",
       "        [24, 20, 28, 36, 16]],\n",
       "\n",
       "       [[45, 37, 53, 69, 29],\n",
       "        [30, 25, 35, 45, 20],\n",
       "        [25, 21, 29, 37, 17]]])"
      ]
     },
     "execution_count": 157,
     "metadata": {},
     "output_type": "execute_result"
    }
   ],
   "source": [
    "result = ax+bx*cx\n",
    "result"
   ]
  },
  {
   "cell_type": "code",
   "execution_count": 159,
   "metadata": {},
   "outputs": [
    {
     "name": "stdout",
     "output_type": "stream",
     "text": [
      "a[1]+b[2]*c[4]结果为： 15\n"
     ]
    }
   ],
   "source": [
    "print('a[1]+b[2]*c[4]结果为：',result[1,2,4])"
   ]
  },
  {
   "cell_type": "markdown",
   "metadata": {},
   "source": [
    "#### 读写文件\n",
    "- **.npy**存储单个arr 和 **.npz**存储多个arr\n",
    "- 二进制格式读写\n",
    "    - np.save(file,arr)，保存单个数组\n",
    "    - np.savez(file,arr1,arr2,...)，保存多个数组\n",
    "    - np.load(file)，**文件名必须要有后缀名，区分npy，npz**\n",
    "        - npy，返回arr\n",
    "        - npz，返回arr的类似字典，键值从load_arr.files取\n",
    "- 文本格式读写"
   ]
  },
  {
   "cell_type": "code",
   "execution_count": 165,
   "metadata": {},
   "outputs": [
    {
     "data": {
      "text/plain": [
       "array([[ 0,  1,  2,  3,  4],\n",
       "       [ 5,  6,  7,  8,  9],\n",
       "       [10, 11, 12, 13, 14],\n",
       "       [15, 16, 17, 18, 19]])"
      ]
     },
     "execution_count": 165,
     "metadata": {},
     "output_type": "execute_result"
    }
   ],
   "source": [
    "arr1 = np.arange(20).reshape(4,5)\n",
    "arr2 = np.arange(100).reshape(10,10)\n",
    "file = '../save_file_arr1'\n",
    "np.save(file,arr1)\n",
    "load_arr = np.load(file+'.npy')\n",
    "load_arr"
   ]
  },
  {
   "cell_type": "code",
   "execution_count": 179,
   "metadata": {},
   "outputs": [
    {
     "name": "stdout",
     "output_type": "stream",
     "text": [
      "keys: ['arr_0', 'arr_1']\n",
      "arr1：\n"
     ]
    },
    {
     "data": {
      "text/plain": [
       "array([[ 0,  1,  2,  3,  4],\n",
       "       [ 5,  6,  7,  8,  9],\n",
       "       [10, 11, 12, 13, 14],\n",
       "       [15, 16, 17, 18, 19]])"
      ]
     },
     "execution_count": 179,
     "metadata": {},
     "output_type": "execute_result"
    }
   ],
   "source": [
    "file1 = '../savez_file_arr'\n",
    "np.savez(file1,arr1,arr2)\n",
    "load_arrs = np.load(file1+'.npz')\n",
    "# type(load_arrs)\n",
    "print('keys:',load_arrs.files)\n",
    "print('arr1：')\n",
    "load_arrs['arr_0']"
   ]
  },
  {
   "cell_type": "code",
   "execution_count": null,
   "metadata": {},
   "outputs": [],
   "source": []
  },
  {
   "cell_type": "markdown",
   "metadata": {},
   "source": [
    "### Matplotlib\n",
    "#### pyplot基础语法"
   ]
  },
  {
   "cell_type": "markdown",
   "metadata": {},
   "source": [
    "#### 绘图流程\n",
    "1. 创建画布，是否创建子图\n",
    "    - 子图：一张画布画多个图，可指定子图行列、编号\n",
    "2. 对画布添加描述\n",
    "    - plt.title ,标题\n",
    "    - plt.xlabel/ylabel ,添加x/y轴名称\n",
    "    - plt.xlim/ylim ,指定x/y轴数值范围\n",
    "    - plt.xticks/yticks ,指定x/y轴刻度\n",
    "3. 绘制图像、添加图例\n",
    "    - plt.plot() , 绘图\n",
    "    - plt.legend ,指定当前图形的图例（比如说图像右下方指明用什么线画的、y=$x^2$这类的）\n",
    "4. 保存并显示图像\n",
    "    - plt.show()\n",
    "    - plt.savefig()"
   ]
  },
  {
   "cell_type": "markdown",
   "metadata": {},
   "source": [
    "#### 基本画例"
   ]
  },
  {
   "cell_type": "code",
   "execution_count": 180,
   "metadata": {},
   "outputs": [],
   "source": [
    "import numpy as np\n",
    "import matplotlib.pyplot as plt"
   ]
  },
  {
   "cell_type": "code",
   "execution_count": 325,
   "metadata": {},
   "outputs": [
    {
     "data": {
      "image/png": "[encoded data removed]",
      "text/plain": [
       "<matplotlib.figure.Figure at 0x12f68626c18>"
      ]
     },
     "metadata": {},
     "output_type": "display_data"
    }
   ],
   "source": [
    "data = np.arange(0,1.1,0.01)\n",
    "plt.title('test')\n",
    "plt.xlabel('X')\n",
    "plt.ylabel('Y')\n",
    "#定下xy轴范围\n",
    "plt.xlim((0,1))\n",
    "plt.ylim((0,1))\n",
    "#确定xy轴刻度\n",
    "plt.xticks([0,0.2,0.4,0.6,0.8,1])\n",
    "plt.yticks([0,0.2,0.4,0.6,0.8,1])\n",
    "#画图\n",
    "plt.plot(data,data**2)\n",
    "plt.plot(data,data**4)\n",
    "#添加图例\n",
    "plt.legend(['y=x^2','y=x^4'],loc=2)\n",
    "#legend可以通过loc参数指定图例的位置（1是右上角，2是左上角，3是左下角等等）\n",
    "plt.savefig('../test.png')\n",
    "plt.show()"
   ]
  },
  {
   "cell_type": "markdown",
   "metadata": {},
   "source": [
    "#### 绘制子图示例\n",
    "[子图add_subplot参考](https://www.sogou.com/link?url=DSOYnZeCC_pKZzihDKzFgzQoUkRGi7SFpmCC6ra1tyflRQBB3amNXw..)\n",
    "\n",
    "比如说figure中要画两张图，就是add_subplot(2,1,1)/(2,1,2)，横着并列；(1,2,1)/(1,2,2)，竖着并列。第三个数代表第几张子图。**注：如果数值小于10可以简写成211,212**\n",
    "\n",
    "[如何让子图纵坐标一致](https://zhuanlan.zhihu.com/p/31856211)"
   ]
  },
  {
   "cell_type": "code",
   "execution_count": 251,
   "metadata": {},
   "outputs": [
    {
     "data": {
      "image/png": "[encoded data removed]",
      "text/plain": [
       "<matplotlib.figure.Figure at 0x12f632b9390>"
      ]
     },
     "metadata": {},
     "output_type": "display_data"
    }
   ],
   "source": [
    "rad = np.arange(0,np.pi*2,0.01)#np.pi是π\n",
    "#定画布大小\n",
    "p1 = plt.figure(figsize=(8,6),dpi=80)#8行6列\n",
    "#子图一\n",
    "ax1 = p1.add_subplot(2,1,1)\n",
    "plt.title('lines')\n",
    "plt.xlabel('X')\n",
    "plt.ylabel('Y')\n",
    "#定下xy轴范围\n",
    "plt.xlim((0,1))\n",
    "plt.ylim((0,1))\n",
    "#确定xy轴刻度\n",
    "plt.xticks([0,0.2,0.4,0.6,0.8,1])\n",
    "plt.yticks([0,0.2,0.4,0.6,0.8,1])\n",
    "#画图\n",
    "plt.plot(rad,rad**2)\n",
    "plt.plot(rad,rad**4)\n",
    "#添加图例\n",
    "plt.legend(['y=x^2','y=x^4'])\n",
    "\n",
    "#子图二\n",
    "ax2 = p1.add_subplot(2,1,2)\n",
    "# plt.title('sin/cos')\n",
    "#配置rc参数显示中文\n",
    "plt.rcParams['font.sans-serif'] = 'SimHei'\n",
    "plt.rcParams['axes.unicode_minus'] = False\n",
    "plt.title('正余弦')\n",
    "plt.xlabel('Rad')\n",
    "plt.ylabel('Sin/Cos')\n",
    "plt.xlim((0,np.pi*2))\n",
    "plt.ylim((-1,1))\n",
    "plt.xticks([0,np.pi/4,np.pi/2,np.pi*3/4,np.pi,np.pi*5/4,np.pi*3/2,np.pi*7/4,np.pi*2])\n",
    "plt.yticks([-1,-0.5,0,0.5,1])\n",
    "plt.plot(rad,np.sin(rad))\n",
    "plt.plot(rad,np.cos(rad))\n",
    "plt.legend(['y=sinx','y=cosx'])\n",
    "plt.show()"
   ]
  },
  {
   "cell_type": "markdown",
   "metadata": {},
   "source": [
    "##### 散点图\n",
    "- 判断相关关系（线性、非线性）\n",
    "- 判断离群点\n",
    "> 语法.plt.scatter(x,y,s=20,c='b',marker='o')\n",
    "主要参数是x，y两个要探究相关性的arr。\n",
    "> - s接收数值和x等长的arr，表示点的大小\n",
    "> - c表示点颜色，'b':blue,'y':yellow,'r':red,'g':green等\n",
    "> - marker表示绘制点的类型"
   ]
  },
  {
   "cell_type": "code",
   "execution_count": 352,
   "metadata": {
    "scrolled": true
   },
   "outputs": [
    {
     "data": {
      "image/png": "[encoded data removed]",
      "text/plain": [
       "<matplotlib.figure.Figure at 0x12f68565b38>"
      ]
     },
     "metadata": {},
     "output_type": "display_data"
    }
   ],
   "source": [
    "import numpy as np\n",
    "import matplotlib.pyplot as plt\n",
    "plt.rcParams['font.sans-serif'] = 'SimHei'\n",
    "plt.rcParams['axes.unicode_minus'] = False\n",
    "data = np.load('../国民经济核算季度数据.npz')\n",
    "# print(data.files)\n",
    "# print(data['columns'],'\\n',data['columns'].shape)\n",
    "# print(data['values'].shape)\n",
    "# data['values']\n",
    "\n",
    "name = data['columns']\n",
    "value = data['values']\n",
    "plt.figure(figsize=(8,7))\n",
    "plt.scatter(value[:,0],value[:,2],marker='o')\n",
    "plt.xlabel('年份')\n",
    "plt.ylabel('生产总值(亿元)')\n",
    "plt.ylim((0,225000))\n",
    "plt.xticks(range(0,70,4),value[range(0,70,4),1],rotation=45)\n",
    "plt.title('00~17年国民生产总值散点图')\n",
    "\n",
    "plt.savefig('../00~17年国民生产总值散点图.png')\n",
    "plt.show()"
   ]
  },
  {
   "cell_type": "code",
   "execution_count": 220,
   "metadata": {},
   "outputs": [
    {
     "data": {
      "image/png": "[encoded data removed]",
      "text/plain": [
       "<matplotlib.figure.Figure at 0x12f633f0b38>"
      ]
     },
     "metadata": {},
     "output_type": "display_data"
    },
    {
     "name": "stdout",
     "output_type": "stream",
     "text": [
      "Help on function xticks in module matplotlib.pyplot:\n",
      "\n",
      "xticks(*args, **kwargs)\n",
      "    Get or set the *x*-limits of the current tick locations and labels.\n",
      "    \n",
      "    ::\n",
      "    \n",
      "      # return locs, labels where locs is an array of tick locations and\n",
      "      # labels is an array of tick labels.\n",
      "      locs, labels = xticks()\n",
      "    \n",
      "      # set the locations of the xticks\n",
      "      xticks( arange(6) )\n",
      "    \n",
      "      # set the locations and labels of the xticks\n",
      "      xticks( arange(5), ('Tom', 'Dick', 'Harry', 'Sally', 'Sue') )\n",
      "    \n",
      "    The keyword args, if any, are :class:`~matplotlib.text.Text`\n",
      "    properties. For example, to rotate long labels::\n",
      "    \n",
      "      xticks( arange(12), calendar.month_name[1:13], rotation=17 )\n",
      "\n"
     ]
    }
   ],
   "source": [
    "plt.figure(figsize=(8,7))\n",
    "#picture 1\n",
    "plt.scatter(value[:,0],value[:,3],marker='o',c='red')\n",
    "#pivture 2\n",
    "plt.scatter(value[:,0],value[:,4],marker='D',c='blue')\n",
    "#picture 3\n",
    "plt.scatter(value[:,0],value[:,5],marker='v',c='yellow')\n",
    "plt.xlabel('年份')\n",
    "plt.ylabel('生产总值(亿元)')\n",
    "plt.ylim((0,225000))\n",
    "plt.xticks(range(0,70,4),value[range(0,70,4),1],rotation=45)#rotation刻度值角度\n",
    "plt.title('00~17年各产业季度国民生产总值散点图')\n",
    "plt.legend(['第一产业','第二产业','第三产业'])\n",
    "plt.savefig('../00~17年各产业季度国民生产总值散点图.png')\n",
    "plt.show()\n",
    "help(plt.xticks)"
   ]
  },
  {
   "cell_type": "markdown",
   "metadata": {},
   "source": [
    "##### 折线图\n",
    "- 趋势关系\n",
    "- 数量差异\n",
    "> plt.plot(x,y,color=None,linestyle='-',marker=None,alpha=None)\n",
    "> - color同上面的c，补充一下'k':黑，'c':青\n",
    "> - linestyle线条类型，marker同上\n",
    "> - alpha接收0~1小数，表示点的透明度"
   ]
  },
  {
   "cell_type": "code",
   "execution_count": 289,
   "metadata": {},
   "outputs": [
    {
     "data": {
      "image/png": "[encoded data removed]",
      "text/plain": [
       "<matplotlib.figure.Figure at 0x12f63a1e940>"
      ]
     },
     "metadata": {},
     "output_type": "display_data"
    }
   ],
   "source": [
    "plt.figure(figsize=(8,7))\n",
    "plt.plot(value[:,0],value[:,2],linestyle='--',marker='o')\n",
    "plt.xlabel('年份')\n",
    "plt.ylabel('生成总值(亿元)')\n",
    "plt.ylim((0,225000))\n",
    "#特意标记某个点\n",
    "# plt.annotate(xy=[value[:,0][36],value[:,2][36]],s='Look')\n",
    "plt.xticks(range(0,70,4),value[range(0,70,4),1],rotation=45)\n",
    "plt.title('00~17国民生成总值折线图')\n",
    "plt.savefig('../00~17国民生成总值折线图.png')\n",
    "plt.show()"
   ]
  },
  {
   "cell_type": "markdown",
   "metadata": {},
   "source": [
    "- **plot一次可以接收多组arr，绘制多条折线图**\n",
    "- **定义点线的形状颜色的三个参数可连接起来用一个字符串表示**，如'ro-.','bD--','ys-'"
   ]
  },
  {
   "cell_type": "code",
   "execution_count": 227,
   "metadata": {},
   "outputs": [
    {
     "data": {
      "image/png": "[encoded data removed]",
      "text/plain": [
       "<matplotlib.figure.Figure at 0x12f633124e0>"
      ]
     },
     "metadata": {},
     "output_type": "display_data"
    }
   ],
   "source": [
    "plt.figure(figsize=(8,7))\n",
    "plt.plot(value[:,0],value[:,3],'ro-.',\n",
    "        value[:,0],value[:,4],'bD--',\n",
    "        value[:,0],value[:,5],'ys-')\n",
    "plt.xlabel('年份')\n",
    "plt.ylabel('生产总值（亿元）')\n",
    "plt.ylim((0,125000))\n",
    "plt.xticks(range(0,70,4),value[range(0,70,4),1],rotation=45)\n",
    "plt.title('00~17年各季度国民各产业生产总值')\n",
    "plt.legend(['第一产业','第二产业','第三产业'])\n",
    "plt.savefig('../00~17年各季度国民各产业生产总值折线图.png')\n",
    "plt.show()"
   ]
  },
  {
   "cell_type": "code",
   "execution_count": 229,
   "metadata": {},
   "outputs": [
    {
     "name": "stdout",
     "output_type": "stream",
     "text": [
      "(15,) (69, 15)\n"
     ]
    },
    {
     "data": {
      "text/plain": [
       "array(['序号', '时间', '国内生产总值_当季值(亿元)', '第一产业增加值_当季值(亿元)', '第二产业增加值_当季值(亿元)',\n",
       "       '第三产业增加值_当季值(亿元)', '农林牧渔业增加值_当季值(亿元)', '工业增加值_当季值(亿元)',\n",
       "       '建筑业增加值_当季值(亿元)', '批发和零售业增加值_当季值(亿元)', '交通运输、仓储和邮政业增加值_当季值(亿元)',\n",
       "       '住宿和餐饮业增加值_当季值(亿元)', '金融业增加值_当季值(亿元)', '房地产业增加值_当季值(亿元)',\n",
       "       '其他行业增加值_当季值(亿元)'], dtype=object)"
      ]
     },
     "execution_count": 229,
     "metadata": {},
     "output_type": "execute_result"
    }
   ],
   "source": [
    "print(name.shape,value.shape)\n",
    "name"
   ]
  },
  {
   "cell_type": "markdown",
   "metadata": {},
   "source": [
    "##### 子图绘制，细分各产业生产总值\n",
    "- 由name可知value的15列与之相对应"
   ]
  },
  {
   "cell_type": "code",
   "execution_count": 249,
   "metadata": {},
   "outputs": [
    {
     "data": {
      "image/png": "[encoded data removed]",
      "text/plain": [
       "<matplotlib.figure.Figure at 0x12f66504518>"
      ]
     },
     "metadata": {},
     "output_type": "display_data"
    }
   ],
   "source": [
    "import numpy as np\n",
    "import matplotlib.pyplot as plt\n",
    "#设置显示中文\n",
    "plt.rcParams['font.sans-serif'] = 'SimHei'\n",
    "plt.rcParams['axes.unicode_minus'] = False\n",
    "#画布、子图\n",
    "pl = plt.figure(figsize=(9,12))\n",
    "ax1 = pl.add_subplot(3,1,1)\n",
    "\n",
    "data = np.load('../国民经济核算季度数据.npz')\n",
    "name = data['columns']\n",
    "value = data['values']\n",
    "#散点图\n",
    "plt.scatter(value[:,0],value[:,3],c='b',marker='o')\n",
    "# plt.scatter(value[:,0],value[:,4],c='r',marker='D')\n",
    "plt.plot(value[:,0],value[:,4],'rD-.')\n",
    "plt.scatter(value[:,0],value[:,5],c='k',marker='v')\n",
    "plt.xlabel('年份')\n",
    "plt.ylabel('生产总值（亿元）')\n",
    "plt.xticks(range(0,70,4),value[range(0,70,4),1],rotation=45)\n",
    "plt.title('00~17各产业行业生产总值散点图')\n",
    "plt.legend(['第一产业','第二产业','第三产业'])\n",
    "\n",
    "#散点图2\n",
    "ax2 = pl.add_subplot(2,1,2)\n",
    "plt.scatter(value[:,0],value[:,6],c='r',marker='o')\n",
    "plt.scatter(value[:,0],value[:,7],c='g',marker='p')\n",
    "plt.scatter(value[:,0],value[:,8],c='b',marker='+')\n",
    "plt.scatter(value[:,0],value[:,9],c='m',marker='v')\n",
    "plt.scatter(value[:,0],value[:,10],c='c',marker='*')\n",
    "plt.xlabel('年份')\n",
    "plt.ylabel('生产总值（亿元）')\n",
    "plt.xticks(range(0,70,4),value[range(0,70,4),1],rotation=45)\n",
    "plt.legend(['农林','工业','建筑','批发','交通'])\n",
    "plt.savefig('../00~17年各产业与行业国民生产总值散点图.png')\n",
    "plt.show()"
   ]
  },
  {
   "cell_type": "markdown",
   "metadata": {},
   "source": [
    "#### 柱状图\n",
    "- 分组数据的分布\n",
    "- 分组数据之间的比较\n",
    "\n",
    "> plt.bar(left,height,width=0.8,bottom=None,hold=None,data=None)\n",
    "\n",
    "凑合看一下，没找到好点的博客[Python绘图问题：Matplotlib中柱状图bar使用](https://blog.csdn.net/liangzuojiayi/article/details/78187704)"
   ]
  },
  {
   "cell_type": "code",
   "execution_count": 277,
   "metadata": {},
   "outputs": [
    {
     "data": {
      "image/png": "[encoded data removed]",
      "text/plain": [
       "<matplotlib.figure.Figure at 0x12f65d68e80>"
      ]
     },
     "metadata": {},
     "output_type": "display_data"
    }
   ],
   "source": [
    "import numpy as np\n",
    "import matplotlib.pyplot as plt\n",
    "plt.rcParams['font.sans-serif'] = 'SimHei'\n",
    "plt.rcParams['axes.unicode_minus'] = False\n",
    "data = np.load('../国民经济核算季度数据.npz')\n",
    "name = data['columns']\n",
    "value = data['values']\n",
    "plt.figure(figsize=(8,7))\n",
    "x = range(0,3)\n",
    "x1 = [i+0.35 for i in range(0,3)]\n",
    "plt.bar(x,value[-2,3:6],width=0.35)\n",
    "plt.bar(x1,value[-1,3:6],width=0.35)\n",
    "#为直方图每一直柱注释\n",
    "for i in range(len(x1)):\n",
    "    plt.text(x1[i],value[-1,3:6][i]+500,'%d'%value[-2,3:6][i],ha='center', va= 'bottom')\n",
    "    \n",
    "for x,y in zip(x,value[-2,3:6]):\n",
    "    plt.text(x,y+1000,'%d'%y,ha='center', va= 'bottom')\n",
    "plt.xlabel('产业')\n",
    "plt.ylabel('生产总值')\n",
    "plt.xticks(range(0,3),['第一产业','第二产业','第三产业'])\n",
    "plt.title('2016、2017年生产总值对比')\n",
    "plt.show()"
   ]
  },
  {
   "cell_type": "markdown",
   "metadata": {},
   "source": [
    "#### 饼图\n",
    "- 数据内部占比情况"
   ]
  },
  {
   "cell_type": "code",
   "execution_count": 286,
   "metadata": {},
   "outputs": [
    {
     "data": {
      "image/png": "[encoded data removed]",
      "text/plain": [
       "<matplotlib.figure.Figure at 0x12f65d68630>"
      ]
     },
     "metadata": {},
     "output_type": "display_data"
    }
   ],
   "source": [
    "plt.figure(figsize=(6,6))#画布正方形，画出的圆是正圆\n",
    "label = ['第一产业','第二产业','第三产业']\n",
    "explode = [0.01,0.01,.01]\n",
    "plt.pie(value[-1,3:6],explode=explode,labels=label,autopct='%1.1f%%')\n",
    "plt.title('17年第一季度各产业国民生成总值')\n",
    "plt.show()"
   ]
  },
  {
   "cell_type": "markdown",
   "metadata": {},
   "source": [
    "#### Matplotlib整理\n",
    "- plot()画直线，常见的三种样式参数\n",
    "    - 颜色：'bgrcykm'\n",
    "    - 线条：-实线，--虚线，-.点划线，:点线\n",
    "    - 点：'.ov<>sp*h+xD'\n",
    "    - 三个参数可用一个字符串表示\n",
    "- 注释图表：当一个数据点不在预估的范围内，这时要标注它，可以使用`plt.annotate()`\n",
    "> 如plt.annotate(xy=[1,1],s='Look')\n",
    "- scatter()画散点图，前面记得挺清楚\n",
    "- pie()画饼图\n",
    "    - values：一组数据用来测百分比\n",
    "    - colors：可以指定values中的数据的颜色（也表示和values等长）\n",
    "    - labels：标签，标记values中的数据\n",
    "    - explode：凸显值列表，代表values中数据所占的扇形离圆心的距离（默认都是0）\n",
    "    - autopct：常见的是 `%1.1f%%` 将百分比显示到对应扇形图上\n",
    "        - 格式化的形式，1.1f代表保留一位小数的浮点型，后面的%代表以%结尾（同理可用`%d%%`）\n",
    "    - shadow:True/False，是否显示阴影\n",
    "- bar()画柱状图\n",
    "    - left：x轴数据\n",
    "    - height：对应y轴数据\n",
    "    - width：柱的宽度\n",
    "    - color：颜色\n",
    "- plt.text()标注（看示例）\n",
    "- plt.grid()加网格"
   ]
  },
  {
   "cell_type": "code",
   "execution_count": 356,
   "metadata": {},
   "outputs": [
    {
     "data": {
      "image/png": "[encoded data removed]",
      "text/plain": [
       "<matplotlib.figure.Figure at 0x12f6517a8d0>"
      ]
     },
     "metadata": {},
     "output_type": "display_data"
    }
   ],
   "source": [
    "import numpy as np\n",
    "import matplotlib.pyplot as plt\n",
    "plt.rcParams['font.sans-serif'] = 'SimHei'\n",
    "plt.rcParams['axes.unicode_minus'] = False\n",
    "data = np.load('../国民经济核算季度数据.npz')\n",
    "name = data['columns']\n",
    "value = data['values']\n",
    "p = plt.figure(figsize=(16,20))\n",
    "ax1 = p.add_subplot(211)\n",
    "x = range(0,len(value),4)\n",
    "y1 = value[x,3]\n",
    "y2 = value[x,4]\n",
    "#facecolor：背景颜色 ，edgecolor：边框颜色\n",
    "plt.bar(x,y2,width=1.25,facecolor='#9999ff',edgecolor='w')\n",
    "plt.bar(x,-y1,width=1.25,facecolor='#ff9999',edgecolor='w')\n",
    "plt.grid()\n",
    "#标注\n",
    "for i,j in zip(x,y1):\n",
    "    #ha水平对齐方式，center水平居中对齐\n",
    "    #va垂直对齐方式，bottom垂直向下对齐，top向上对齐\n",
    "    #这里的i+0.25，-j-3000仅仅是图中的位置，按你看着舒服调动\n",
    "    plt.text(i+0.25,-j-3000,'%d亿'%j,ha='center',va='bottom')\n",
    "    \n",
    "for i,j in zip(x,y2):\n",
    "    plt.text(i+0.25,j+3000,'%d亿'%j,ha='center',va='top')\n",
    "plt.legend(['第二产业','第一产业（刻度负数不用管）'],loc=2)\n",
    "plt.yticks(range(-10000,70000,5000))\n",
    "plt.xticks(x,value[x,1],rotation=45)\n",
    "\n",
    "ax2 = p.add_subplot(212)\n",
    "x1 = range(1,len(value)+1,4)\n",
    "y3 = value[x,5]\n",
    "plt.bar(x,y2,width=1.25,facecolor='#9999ff',edgecolor='w')\n",
    "plt.bar(x1,y3,width=1.25,facecolor='r',edgecolor='w')\n",
    "plt.grid()\n",
    "for i,j in zip(x,y2):\n",
    "    plt.text(i-0.5,j+2000,'%d'%j,ha='center',va='top')\n",
    "for i,j in zip(x1,y3):\n",
    "    plt.text(i+0.5,j+3500,'%d'%j,ha='center',va='top')\n",
    "plt.ylabel('生产总值（亿元）')\n",
    "plt.xlabel('年份')\n",
    "plt.yticks(range(0,120000,5000))\n",
    "plt.xticks(x,value[x,1],rotation=45)\n",
    "plt.legend(['第二产业','第三产业'],loc=2)\n",
    "plt.show()"
   ]
  },
  {
   "cell_type": "code",
   "execution_count": null,
   "metadata": {},
   "outputs": [],
   "source": []
  },
  {
   "cell_type": "markdown",
   "metadata": {},
   "source": [
    "### Pandas\n",
    "#### 一、数据读写\n",
    "- 文本文件（csv、txt）\n",
    "- 数据库数据\n",
    "- Excel文件"
   ]
  },
  {
   "cell_type": "markdown",
   "metadata": {},
   "source": [
    "#### 读写数据库（MySQL为例）\n",
    "- 必须要sqlalchemy库配合数据库连接工具（如pymysql）"
   ]
  },
  {
   "cell_type": "code",
   "execution_count": 357,
   "metadata": {},
   "outputs": [
    {
     "ename": "ModuleNotFoundError",
     "evalue": "No module named 'sqlalchemy'",
     "output_type": "error",
     "traceback": [
      "\u001b[1;31m---------------------------------------------------------------------------\u001b[0m",
      "\u001b[1;31mModuleNotFoundError\u001b[0m                       Traceback (most recent call last)",
      "\u001b[1;32m<ipython-input-357-172ae2805bcd>\u001b[0m in \u001b[0;36m<module>\u001b[1;34m()\u001b[0m\n\u001b[1;32m----> 1\u001b[1;33m \u001b[1;32mfrom\u001b[0m \u001b[0msqlalchemy\u001b[0m \u001b[1;32mimport\u001b[0m \u001b[0mcreate_engine\u001b[0m\u001b[1;33m\u001b[0m\u001b[0m\n\u001b[0m",
      "\u001b[1;31mModuleNotFoundError\u001b[0m: No module named 'sqlalchemy'"
     ]
    }
   ],
   "source": [
    "from sqlalchemy import create_engine"
   ]
  },
  {
   "cell_type": "markdown",
   "metadata": {},
   "source": [
    "#### 读写文本文件\n",
    "- read_table()/read_csv()\n",
    "    - 两者用法相似，参数一样，仅有区别再用前者默认分隔符为制表符Tab键，后者为逗号\n",
    "    - 与我而言，习惯前者读取txt，后者读取csv\n",
    "    - 常用参数列举\n",
    "        - filepath\n",
    "        - sep：分隔符\n",
    "        - header='infer'：接收int，以某行数据为列名，默认infer（自动识别）\n",
    "        - names=None：接收array，指定列名\n",
    "        - index_col：接收int或sequence，前者指定索引在那一列，后者代表多重索引\n",
    "        - encoding=utf8：可指定编码\n",
    "        - nrows=None：接收int，读取前n行\n",
    "- to_csv()\n",
    "    - path\n",
    "    - sep\n",
    "    - na_rep=''：指定缺失值，默认''\n",
    "    - columns：接收list，指定写入的列名\n",
    "    - header=True：是否写入列名\n",
    "    - index=True：是否写入索引\n",
    "    - encoding"
   ]
  },
  {
   "cell_type": "code",
   "execution_count": 358,
   "metadata": {},
   "outputs": [],
   "source": [
    "import pandas as pd\n",
    "path = '../data/meal_order_info.csv'"
   ]
  },
  {
   "cell_type": "code",
   "execution_count": 363,
   "metadata": {},
   "outputs": [
    {
     "data": {
      "text/plain": [
       "Index(['info_id', 'emp_id', 'number_consumers', 'mode', 'dining_table_id',\n",
       "       'dining_table_name', 'expenditure', 'dishes_count', 'accounts_payable',\n",
       "       'use_start_time', 'check_closed', 'lock_time', 'cashier_id', 'pc_id',\n",
       "       'order_number', 'org_id', 'print_doc_bill_num', 'lock_table_info',\n",
       "       'order_status', 'phone', 'name'],\n",
       "      dtype='object')"
      ]
     },
     "execution_count": 363,
     "metadata": {},
     "output_type": "execute_result"
    }
   ],
   "source": [
    "#读取菜品订单信息\n",
    "order = pd.read_csv(path,encoding='gbk')\n",
    "# order1 = pd.read_table(path,sep=',',encoding='gbk')\n",
    "order.columns "
   ]
  },
  {
   "cell_type": "markdown",
   "metadata": {},
   "source": [
    "#### 读写Excel\n",
    "- read_excel()\n",
    "    - filepath\n",
    "    - sheetname=0：接收str、int指定Excel中哪张表（0代表第一张表，str就是明确指出表名）\n",
    "    - header：同read_csv\n",
    "    - names：同read_csv\n",
    "    - indexx_col：同read_csv\n",
    "- to_excel()\n",
    "    - filepath\n",
    "    - sheetname：默认使用Sheet1\n",
    "    - na_rep=''：同to_csv\n",
    "    - header/index/index_label/encoding：同to_csv"
   ]
  },
  {
   "cell_type": "code",
   "execution_count": 369,
   "metadata": {},
   "outputs": [
    {
     "data": {
      "text/plain": [
       "(3611, 19)"
      ]
     },
     "execution_count": 369,
     "metadata": {},
     "output_type": "execute_result"
    }
   ],
   "source": [
    "excel_path = '../data/meal_order_detail.xlsx'\n",
    "mealInfo = pd.read_excel(excel_path,sheet_name='meal_order_detail3')\n",
    "# mealInfo = pd.read_excel(excel_path,sheet_name=0)\n",
    "mealInfo.shape"
   ]
  },
  {
   "cell_type": "code",
   "execution_count": 370,
   "metadata": {},
   "outputs": [
    {
     "data": {
      "text/plain": [
       "Index(['detail_id', 'order_id', 'dishes_id', 'logicprn_name',\n",
       "       'parent_class_name', 'dishes_name', 'itemis_add', 'counts', 'amounts',\n",
       "       'cost', 'place_order_time', 'discount_amt', 'discount_reason',\n",
       "       'kick_back', 'add_inprice', 'add_info', 'bar_code', 'picture_file',\n",
       "       'emp_id'],\n",
       "      dtype='object')"
      ]
     },
     "execution_count": 370,
     "metadata": {},
     "output_type": "execute_result"
    }
   ],
   "source": [
    "mealInfo.columns"
   ]
  },
  {
   "cell_type": "markdown",
   "metadata": {},
   "source": [
    "#### 二、基本对象\n",
    "- DataFrame\n",
    "- Series"
   ]
  },
  {
   "cell_type": "markdown",
   "metadata": {},
   "source": [
    "#### DataFrame对象（重点）\n",
    "- 基本属性\n",
    "    - shape：形状\n",
    "    - size：大小（数据个数）\n",
    "    - index：行索引\n",
    "    - columns：列索引\n",
    "    - ndim：维度\n",
    "    - dtypes：类型\n",
    "    - **T：转置**\n",
    " "
   ]
  },
  {
   "cell_type": "markdown",
   "metadata": {},
   "source": [
    "#### 基本增删改查\n",
    "1. 查询（访问数据）\n",
    "- 访问行、列\n",
    "    - df[列名]/df.列名：访问某列，推荐前者\n",
    "    - df[[列1，列2，...]]：访问多列\n",
    "    - df[a:b]：类似list，访问某(多)行\n",
    "    - 综合以上，可访问特定某个数据\n",
    "- 使用loc，iloc查询\n",
    "    - **注：loc针对索引名称，iloc针对索引位置**\n",
    "    - loc[行索引名/条件，列索引名]\n",
    "        - **注：不同于索引位置，对于行索引名称而言如 2:6 是第2到第6行（如果是位置则是2到5行）**\n",
    "    \n",
    "    - iloc[行索引位置，列索引位置]\n",
    "    - loc/iloc对于列都可以使用[列1，列2，...]，对于行也可以类似[0,2,5]\n",
    "        - 如 `mealInfo.loc[2:6,['detail_id', 'order_id','','amounts']]`\n",
    "        - `mealInfo.loc[[0,2],:]/mealInfo.iloc[[0,2],[5,7,8]]`\n",
    "    - loc对于行可以接收条件判断（series），iloc可以变相达到同一效果\n",
    "        - 所谓条件，其实就是利用布尔索引\n",
    "        - 如获取单价超过100的菜品\n",
    "            - 常规：`mealInfo[mealInfo['amounts']>100][['dishes_name','amounts','counts']]`\n",
    "            - loc：`mealInfo.loc[mealInfo['amounts']>100,['dishes_name','amounts','counts']]`\n",
    "            - iloc：`mealInfo.iloc[(mealInfo['amounts']>100).values,[5,8,7]]`\n",
    "        - iloc只接受int，integer/boolean arrdary/list\n",
    "- 常用的head/tail(n=5)查看首尾n条数据\n",
    "- 综合loc和iloc的ix\n",
    "    - ix[行索引的名称/位置/条件，列索引名称/位置]\n",
    "    - ix对于行索引区间一律都是闭区间（对于2:6，loc可以理解为闭区间，iloc为左闭右开）\n",
    "    - 数据量大时，ix切片效率慢\n",
    "- 还是使用loc吧，可读性更好"
   ]
  },
  {
   "cell_type": "code",
   "execution_count": 414,
   "metadata": {},
   "outputs": [
    {
     "data": {
      "text/html": [
       "<div>\n",
       "<style scoped>\n",
       "    .dataframe tbody tr th:only-of-type {\n",
       "        vertical-align: middle;\n",
       "    }\n",
       "\n",
       "    .dataframe tbody tr th {\n",
       "        vertical-align: top;\n",
       "    }\n",
       "\n",
       "    .dataframe thead th {\n",
       "        text-align: right;\n",
       "    }\n",
       "</style>\n",
       "<table border=\"1\" class=\"dataframe\">\n",
       "  <thead>\n",
       "    <tr style=\"text-align: right;\">\n",
       "      <th></th>\n",
       "      <th>dishes_name</th>\n",
       "      <th>counts</th>\n",
       "      <th>amounts</th>\n",
       "    </tr>\n",
       "  </thead>\n",
       "  <tbody>\n",
       "    <tr>\n",
       "      <th>0</th>\n",
       "      <td>芝士烩波士顿龙虾</td>\n",
       "      <td>1</td>\n",
       "      <td>175</td>\n",
       "    </tr>\n",
       "    <tr>\n",
       "      <th>2</th>\n",
       "      <td>麻辣小龙虾</td>\n",
       "      <td>1</td>\n",
       "      <td>99</td>\n",
       "    </tr>\n",
       "  </tbody>\n",
       "</table>\n",
       "</div>"
      ],
      "text/plain": [
       "  dishes_name  counts  amounts\n",
       "0    芝士烩波士顿龙虾       1      175\n",
       "2       麻辣小龙虾       1       99"
      ]
     },
     "execution_count": 414,
     "metadata": {},
     "output_type": "execute_result"
    }
   ],
   "source": [
    "mealInfo.loc[[0,2],:]\n",
    "mealInfo.iloc[[0,2],[5,7,8]]"
   ]
  },
  {
   "cell_type": "code",
   "execution_count": 405,
   "metadata": {},
   "outputs": [
    {
     "data": {
      "text/html": [
       "<div>\n",
       "<style scoped>\n",
       "    .dataframe tbody tr th:only-of-type {\n",
       "        vertical-align: middle;\n",
       "    }\n",
       "\n",
       "    .dataframe tbody tr th {\n",
       "        vertical-align: top;\n",
       "    }\n",
       "\n",
       "    .dataframe thead th {\n",
       "        text-align: right;\n",
       "    }\n",
       "</style>\n",
       "<table border=\"1\" class=\"dataframe\">\n",
       "  <thead>\n",
       "    <tr style=\"text-align: right;\">\n",
       "      <th></th>\n",
       "      <th>dishes_name</th>\n",
       "      <th>amounts</th>\n",
       "      <th>counts</th>\n",
       "    </tr>\n",
       "  </thead>\n",
       "  <tbody>\n",
       "    <tr>\n",
       "      <th>0</th>\n",
       "      <td>芝士烩波士顿龙虾</td>\n",
       "      <td>175</td>\n",
       "      <td>1</td>\n",
       "    </tr>\n",
       "    <tr>\n",
       "      <th>7</th>\n",
       "      <td>53度茅台</td>\n",
       "      <td>128</td>\n",
       "      <td>1</td>\n",
       "    </tr>\n",
       "    <tr>\n",
       "      <th>11</th>\n",
       "      <td>倒立蒸梭子蟹</td>\n",
       "      <td>169</td>\n",
       "      <td>1</td>\n",
       "    </tr>\n",
       "    <tr>\n",
       "      <th>12</th>\n",
       "      <td>葱姜炒蟹</td>\n",
       "      <td>109</td>\n",
       "      <td>1</td>\n",
       "    </tr>\n",
       "    <tr>\n",
       "      <th>13</th>\n",
       "      <td>芝士烩波士顿龙虾</td>\n",
       "      <td>175</td>\n",
       "      <td>1</td>\n",
       "    </tr>\n",
       "    <tr>\n",
       "      <th>15</th>\n",
       "      <td>芝士烩波士顿龙虾</td>\n",
       "      <td>175</td>\n",
       "      <td>1</td>\n",
       "    </tr>\n",
       "    <tr>\n",
       "      <th>30</th>\n",
       "      <td>葱姜炒蟹</td>\n",
       "      <td>109</td>\n",
       "      <td>1</td>\n",
       "    </tr>\n",
       "    <tr>\n",
       "      <th>37</th>\n",
       "      <td>52度泸州老窖</td>\n",
       "      <td>159</td>\n",
       "      <td>1</td>\n",
       "    </tr>\n",
       "    <tr>\n",
       "      <th>45</th>\n",
       "      <td>倒立蒸梭子蟹</td>\n",
       "      <td>169</td>\n",
       "      <td>1</td>\n",
       "    </tr>\n",
       "    <tr>\n",
       "      <th>61</th>\n",
       "      <td>芝士烩波士顿龙虾</td>\n",
       "      <td>175</td>\n",
       "      <td>1</td>\n",
       "    </tr>\n",
       "    <tr>\n",
       "      <th>108</th>\n",
       "      <td>芝士烩波士顿龙虾</td>\n",
       "      <td>175</td>\n",
       "      <td>1</td>\n",
       "    </tr>\n",
       "    <tr>\n",
       "      <th>109</th>\n",
       "      <td>倒立蒸梭子蟹</td>\n",
       "      <td>169</td>\n",
       "      <td>1</td>\n",
       "    </tr>\n",
       "    <tr>\n",
       "      <th>136</th>\n",
       "      <td>芝士烩波士顿龙虾</td>\n",
       "      <td>175</td>\n",
       "      <td>1</td>\n",
       "    </tr>\n",
       "    <tr>\n",
       "      <th>140</th>\n",
       "      <td>葱姜炒蟹</td>\n",
       "      <td>109</td>\n",
       "      <td>1</td>\n",
       "    </tr>\n",
       "    <tr>\n",
       "      <th>154</th>\n",
       "      <td>红酒炖羊肉</td>\n",
       "      <td>108</td>\n",
       "      <td>1</td>\n",
       "    </tr>\n",
       "    <tr>\n",
       "      <th>166</th>\n",
       "      <td>52度泸州老窖</td>\n",
       "      <td>159</td>\n",
       "      <td>1</td>\n",
       "    </tr>\n",
       "    <tr>\n",
       "      <th>192</th>\n",
       "      <td>芝士烩波士顿龙虾</td>\n",
       "      <td>175</td>\n",
       "      <td>1</td>\n",
       "    </tr>\n",
       "    <tr>\n",
       "      <th>218</th>\n",
       "      <td>芝士烩波士顿龙虾</td>\n",
       "      <td>175</td>\n",
       "      <td>1</td>\n",
       "    </tr>\n",
       "    <tr>\n",
       "      <th>219</th>\n",
       "      <td>倒立蒸梭子蟹</td>\n",
       "      <td>169</td>\n",
       "      <td>1</td>\n",
       "    </tr>\n",
       "    <tr>\n",
       "      <th>222</th>\n",
       "      <td>芝士烩波士顿龙虾</td>\n",
       "      <td>175</td>\n",
       "      <td>1</td>\n",
       "    </tr>\n",
       "    <tr>\n",
       "      <th>260</th>\n",
       "      <td>倒立蒸梭子蟹</td>\n",
       "      <td>169</td>\n",
       "      <td>1</td>\n",
       "    </tr>\n",
       "    <tr>\n",
       "      <th>277</th>\n",
       "      <td>路易拉菲红酒干红</td>\n",
       "      <td>158</td>\n",
       "      <td>1</td>\n",
       "    </tr>\n",
       "    <tr>\n",
       "      <th>278</th>\n",
       "      <td>芝士烩波士顿龙虾</td>\n",
       "      <td>175</td>\n",
       "      <td>1</td>\n",
       "    </tr>\n",
       "    <tr>\n",
       "      <th>283</th>\n",
       "      <td>红酒炖羊肉</td>\n",
       "      <td>108</td>\n",
       "      <td>1</td>\n",
       "    </tr>\n",
       "    <tr>\n",
       "      <th>302</th>\n",
       "      <td>芝士烩波士顿龙虾</td>\n",
       "      <td>175</td>\n",
       "      <td>1</td>\n",
       "    </tr>\n",
       "    <tr>\n",
       "      <th>344</th>\n",
       "      <td>路易拉菲红酒干红</td>\n",
       "      <td>158</td>\n",
       "      <td>1</td>\n",
       "    </tr>\n",
       "    <tr>\n",
       "      <th>347</th>\n",
       "      <td>百里香奶油烤红酒牛肉</td>\n",
       "      <td>178</td>\n",
       "      <td>1</td>\n",
       "    </tr>\n",
       "    <tr>\n",
       "      <th>373</th>\n",
       "      <td>法国波尔多AOC干红葡萄酒原</td>\n",
       "      <td>159</td>\n",
       "      <td>1</td>\n",
       "    </tr>\n",
       "    <tr>\n",
       "      <th>380</th>\n",
       "      <td>葱姜炒蟹</td>\n",
       "      <td>109</td>\n",
       "      <td>1</td>\n",
       "    </tr>\n",
       "    <tr>\n",
       "      <th>399</th>\n",
       "      <td>红酒炖羊肉</td>\n",
       "      <td>108</td>\n",
       "      <td>1</td>\n",
       "    </tr>\n",
       "    <tr>\n",
       "      <th>...</th>\n",
       "      <td>...</td>\n",
       "      <td>...</td>\n",
       "      <td>...</td>\n",
       "    </tr>\n",
       "    <tr>\n",
       "      <th>3180</th>\n",
       "      <td>路易拉菲红酒干红</td>\n",
       "      <td>158</td>\n",
       "      <td>1</td>\n",
       "    </tr>\n",
       "    <tr>\n",
       "      <th>3189</th>\n",
       "      <td>红酒炖羊肉</td>\n",
       "      <td>108</td>\n",
       "      <td>1</td>\n",
       "    </tr>\n",
       "    <tr>\n",
       "      <th>3214</th>\n",
       "      <td>路易拉菲红酒干红</td>\n",
       "      <td>158</td>\n",
       "      <td>1</td>\n",
       "    </tr>\n",
       "    <tr>\n",
       "      <th>3241</th>\n",
       "      <td>芝士烩波士顿龙虾</td>\n",
       "      <td>175</td>\n",
       "      <td>1</td>\n",
       "    </tr>\n",
       "    <tr>\n",
       "      <th>3244</th>\n",
       "      <td>倒立蒸梭子蟹</td>\n",
       "      <td>169</td>\n",
       "      <td>1</td>\n",
       "    </tr>\n",
       "    <tr>\n",
       "      <th>3252</th>\n",
       "      <td>红酒炖羊肉</td>\n",
       "      <td>108</td>\n",
       "      <td>1</td>\n",
       "    </tr>\n",
       "    <tr>\n",
       "      <th>3283</th>\n",
       "      <td>红酒炖羊肉</td>\n",
       "      <td>108</td>\n",
       "      <td>1</td>\n",
       "    </tr>\n",
       "    <tr>\n",
       "      <th>3308</th>\n",
       "      <td>芝士烩波士顿龙虾</td>\n",
       "      <td>175</td>\n",
       "      <td>1</td>\n",
       "    </tr>\n",
       "    <tr>\n",
       "      <th>3317</th>\n",
       "      <td>芝士烩波士顿龙虾</td>\n",
       "      <td>175</td>\n",
       "      <td>2</td>\n",
       "    </tr>\n",
       "    <tr>\n",
       "      <th>3322</th>\n",
       "      <td>倒立蒸梭子蟹</td>\n",
       "      <td>169</td>\n",
       "      <td>4</td>\n",
       "    </tr>\n",
       "    <tr>\n",
       "      <th>3356</th>\n",
       "      <td>百里香奶油烤红酒牛肉</td>\n",
       "      <td>178</td>\n",
       "      <td>1</td>\n",
       "    </tr>\n",
       "    <tr>\n",
       "      <th>3360</th>\n",
       "      <td>53度茅台</td>\n",
       "      <td>128</td>\n",
       "      <td>1</td>\n",
       "    </tr>\n",
       "    <tr>\n",
       "      <th>3369</th>\n",
       "      <td>红酒炖羊肉</td>\n",
       "      <td>108</td>\n",
       "      <td>1</td>\n",
       "    </tr>\n",
       "    <tr>\n",
       "      <th>3370</th>\n",
       "      <td>葱姜炒蟹</td>\n",
       "      <td>109</td>\n",
       "      <td>1</td>\n",
       "    </tr>\n",
       "    <tr>\n",
       "      <th>3371</th>\n",
       "      <td>芝士烩波士顿龙虾</td>\n",
       "      <td>175</td>\n",
       "      <td>1</td>\n",
       "    </tr>\n",
       "    <tr>\n",
       "      <th>3373</th>\n",
       "      <td>53度茅台</td>\n",
       "      <td>128</td>\n",
       "      <td>1</td>\n",
       "    </tr>\n",
       "    <tr>\n",
       "      <th>3436</th>\n",
       "      <td>红酒炖羊肉</td>\n",
       "      <td>108</td>\n",
       "      <td>1</td>\n",
       "    </tr>\n",
       "    <tr>\n",
       "      <th>3446</th>\n",
       "      <td>52度泸州老窖</td>\n",
       "      <td>159</td>\n",
       "      <td>1</td>\n",
       "    </tr>\n",
       "    <tr>\n",
       "      <th>3461</th>\n",
       "      <td>法国波尔多AOC干红葡萄酒原</td>\n",
       "      <td>159</td>\n",
       "      <td>1</td>\n",
       "    </tr>\n",
       "    <tr>\n",
       "      <th>3494</th>\n",
       "      <td>52度泸州老窖</td>\n",
       "      <td>159</td>\n",
       "      <td>1</td>\n",
       "    </tr>\n",
       "    <tr>\n",
       "      <th>3504</th>\n",
       "      <td>倒立蒸梭子蟹</td>\n",
       "      <td>169</td>\n",
       "      <td>1</td>\n",
       "    </tr>\n",
       "    <tr>\n",
       "      <th>3506</th>\n",
       "      <td>红酒炖羊肉</td>\n",
       "      <td>108</td>\n",
       "      <td>1</td>\n",
       "    </tr>\n",
       "    <tr>\n",
       "      <th>3508</th>\n",
       "      <td>芝士烩波士顿龙虾</td>\n",
       "      <td>175</td>\n",
       "      <td>1</td>\n",
       "    </tr>\n",
       "    <tr>\n",
       "      <th>3518</th>\n",
       "      <td>倒立蒸梭子蟹</td>\n",
       "      <td>169</td>\n",
       "      <td>1</td>\n",
       "    </tr>\n",
       "    <tr>\n",
       "      <th>3520</th>\n",
       "      <td>百里香奶油烤红酒牛肉</td>\n",
       "      <td>178</td>\n",
       "      <td>1</td>\n",
       "    </tr>\n",
       "    <tr>\n",
       "      <th>3543</th>\n",
       "      <td>红酒炖羊肉</td>\n",
       "      <td>108</td>\n",
       "      <td>1</td>\n",
       "    </tr>\n",
       "    <tr>\n",
       "      <th>3546</th>\n",
       "      <td>倒立蒸梭子蟹</td>\n",
       "      <td>169</td>\n",
       "      <td>1</td>\n",
       "    </tr>\n",
       "    <tr>\n",
       "      <th>3567</th>\n",
       "      <td>芝士烩波士顿龙虾</td>\n",
       "      <td>175</td>\n",
       "      <td>1</td>\n",
       "    </tr>\n",
       "    <tr>\n",
       "      <th>3572</th>\n",
       "      <td>倒立蒸梭子蟹</td>\n",
       "      <td>169</td>\n",
       "      <td>1</td>\n",
       "    </tr>\n",
       "    <tr>\n",
       "      <th>3582</th>\n",
       "      <td>红酒炖羊肉</td>\n",
       "      <td>108</td>\n",
       "      <td>1</td>\n",
       "    </tr>\n",
       "  </tbody>\n",
       "</table>\n",
       "<p>207 rows × 3 columns</p>\n",
       "</div>"
      ],
      "text/plain": [
       "         dishes_name  amounts  counts\n",
       "0           芝士烩波士顿龙虾      175       1\n",
       "7              53度茅台      128       1\n",
       "11            倒立蒸梭子蟹      169       1\n",
       "12              葱姜炒蟹      109       1\n",
       "13          芝士烩波士顿龙虾      175       1\n",
       "15          芝士烩波士顿龙虾      175       1\n",
       "30              葱姜炒蟹      109       1\n",
       "37          52度泸州老窖       159       1\n",
       "45            倒立蒸梭子蟹      169       1\n",
       "61          芝士烩波士顿龙虾      175       1\n",
       "108         芝士烩波士顿龙虾      175       1\n",
       "109           倒立蒸梭子蟹      169       1\n",
       "136         芝士烩波士顿龙虾      175       1\n",
       "140             葱姜炒蟹      109       1\n",
       "154            红酒炖羊肉      108       1\n",
       "166         52度泸州老窖       159       1\n",
       "192         芝士烩波士顿龙虾      175       1\n",
       "218         芝士烩波士顿龙虾      175       1\n",
       "219           倒立蒸梭子蟹      169       1\n",
       "222         芝士烩波士顿龙虾      175       1\n",
       "260           倒立蒸梭子蟹      169       1\n",
       "277         路易拉菲红酒干红      158       1\n",
       "278         芝士烩波士顿龙虾      175       1\n",
       "283            红酒炖羊肉      108       1\n",
       "302         芝士烩波士顿龙虾      175       1\n",
       "344         路易拉菲红酒干红      158       1\n",
       "347       百里香奶油烤红酒牛肉      178       1\n",
       "373   法国波尔多AOC干红葡萄酒原      159       1\n",
       "380             葱姜炒蟹      109       1\n",
       "399            红酒炖羊肉      108       1\n",
       "...              ...      ...     ...\n",
       "3180        路易拉菲红酒干红      158       1\n",
       "3189           红酒炖羊肉      108       1\n",
       "3214        路易拉菲红酒干红      158       1\n",
       "3241        芝士烩波士顿龙虾      175       1\n",
       "3244          倒立蒸梭子蟹      169       1\n",
       "3252           红酒炖羊肉      108       1\n",
       "3283           红酒炖羊肉      108       1\n",
       "3308        芝士烩波士顿龙虾      175       1\n",
       "3317        芝士烩波士顿龙虾      175       2\n",
       "3322          倒立蒸梭子蟹      169       4\n",
       "3356      百里香奶油烤红酒牛肉      178       1\n",
       "3360           53度茅台      128       1\n",
       "3369           红酒炖羊肉      108       1\n",
       "3370            葱姜炒蟹      109       1\n",
       "3371        芝士烩波士顿龙虾      175       1\n",
       "3373           53度茅台      128       1\n",
       "3436           红酒炖羊肉      108       1\n",
       "3446        52度泸州老窖       159       1\n",
       "3461  法国波尔多AOC干红葡萄酒原      159       1\n",
       "3494        52度泸州老窖       159       1\n",
       "3504          倒立蒸梭子蟹      169       1\n",
       "3506           红酒炖羊肉      108       1\n",
       "3508        芝士烩波士顿龙虾      175       1\n",
       "3518          倒立蒸梭子蟹      169       1\n",
       "3520      百里香奶油烤红酒牛肉      178       1\n",
       "3543           红酒炖羊肉      108       1\n",
       "3546          倒立蒸梭子蟹      169       1\n",
       "3567        芝士烩波士顿龙虾      175       1\n",
       "3572          倒立蒸梭子蟹      169       1\n",
       "3582           红酒炖羊肉      108       1\n",
       "\n",
       "[207 rows x 3 columns]"
      ]
     },
     "execution_count": 405,
     "metadata": {},
     "output_type": "execute_result"
    }
   ],
   "source": [
    "#获取金额超过100的单品\n",
    "mealInfo[mealInfo['amounts']>100][['dishes_name','amounts','counts']]\n",
    "mealInfo.loc[mealInfo['amounts']>100,['dishes_name','amounts','counts']]\n",
    "mealInfo.iloc[(mealInfo['amounts']>100).values,[5,8,7]]"
   ]
  },
  {
   "cell_type": "markdown",
   "metadata": {},
   "source": [
    "- 更改数据：就是通过访问数据并重新赋值（是对原数据更改）\n",
    "- 增添数据\n",
    "    - 增添一列：新建一个列索引就OK\n",
    "        - 该列赋定值：mealInfo['pay_time'] = '2018-08-04'\n",
    "        - 不赋定值：给一个对应的Series即可\n",
    "    - 增加一行 [Efficiently add single row to Pandas Series or DataFrame\n",
    "](https://stackoverflow.com/questions/13751926/efficiently-add-single-row-to-pandas-series-or-dataframe)\n",
    "        - 我看到有很多推荐Series转置后再pd.concat()，将两个df链接起来（**不推荐，看到有说数据量大时耗时长**）\n",
    "        - 直接追加写`df.loc[df.shape[0]] = {'列1':value,'列2':value,...}`。**如果columns明确，可以直接[value1,value2,...]代替**\n",
    "- 删除数据\n",
    "    - df.drop(labels,axis=0,level=None,inplace=False,errors='raise')\n",
    "        - axis为0删除行，为1删除列\n",
    "        - labels接收str(索引名)/array，指明删除的行/列\n",
    "        - inplace：是否对原数据修改"
   ]
  },
  {
   "cell_type": "code",
   "execution_count": 423,
   "metadata": {},
   "outputs": [
    {
     "data": {
      "text/html": [
       "<div>\n",
       "<style scoped>\n",
       "    .dataframe tbody tr th:only-of-type {\n",
       "        vertical-align: middle;\n",
       "    }\n",
       "\n",
       "    .dataframe tbody tr th {\n",
       "        vertical-align: top;\n",
       "    }\n",
       "\n",
       "    .dataframe thead th {\n",
       "        text-align: right;\n",
       "    }\n",
       "</style>\n",
       "<table border=\"1\" class=\"dataframe\">\n",
       "  <thead>\n",
       "    <tr style=\"text-align: right;\">\n",
       "      <th></th>\n",
       "      <th>detail_id</th>\n",
       "      <th>order_id</th>\n",
       "      <th>dishes_id</th>\n",
       "      <th>logicprn_name</th>\n",
       "      <th>parent_class_name</th>\n",
       "      <th>dishes_name</th>\n",
       "      <th>itemis_add</th>\n",
       "      <th>counts</th>\n",
       "      <th>amounts</th>\n",
       "      <th>cost</th>\n",
       "      <th>place_order_time</th>\n",
       "      <th>discount_amt</th>\n",
       "      <th>discount_reason</th>\n",
       "      <th>kick_back</th>\n",
       "      <th>add_inprice</th>\n",
       "      <th>add_info</th>\n",
       "      <th>bar_code</th>\n",
       "      <th>picture_file</th>\n",
       "      <th>emp_id</th>\n",
       "    </tr>\n",
       "  </thead>\n",
       "  <tbody>\n",
       "    <tr>\n",
       "      <th>0</th>\n",
       "      <td>3085</td>\n",
       "      <td>431</td>\n",
       "      <td>609966</td>\n",
       "      <td>NaN</td>\n",
       "      <td>NaN</td>\n",
       "      <td>芝士烩波士顿龙虾</td>\n",
       "      <td>0</td>\n",
       "      <td>1</td>\n",
       "      <td>175</td>\n",
       "      <td>NaN</td>\n",
       "      <td>2016-08-21 11:16:07</td>\n",
       "      <td>NaN</td>\n",
       "      <td>NaN</td>\n",
       "      <td>NaN</td>\n",
       "      <td>0</td>\n",
       "      <td>NaN</td>\n",
       "      <td>NaN</td>\n",
       "      <td>caipu/101001.jpg</td>\n",
       "      <td>1579</td>\n",
       "    </tr>\n",
       "    <tr>\n",
       "      <th>1</th>\n",
       "      <td>3086</td>\n",
       "      <td>431</td>\n",
       "      <td>609942</td>\n",
       "      <td>NaN</td>\n",
       "      <td>NaN</td>\n",
       "      <td>辣炒鱿鱼</td>\n",
       "      <td>0</td>\n",
       "      <td>1</td>\n",
       "      <td>58</td>\n",
       "      <td>NaN</td>\n",
       "      <td>2016-08-21 11:17:32</td>\n",
       "      <td>NaN</td>\n",
       "      <td>NaN</td>\n",
       "      <td>NaN</td>\n",
       "      <td>0</td>\n",
       "      <td>NaN</td>\n",
       "      <td>NaN</td>\n",
       "      <td>caipu/103003.jpg</td>\n",
       "      <td>1579</td>\n",
       "    </tr>\n",
       "    <tr>\n",
       "      <th>2</th>\n",
       "      <td>3088</td>\n",
       "      <td>431</td>\n",
       "      <td>609970</td>\n",
       "      <td>NaN</td>\n",
       "      <td>NaN</td>\n",
       "      <td>麻辣小龙虾</td>\n",
       "      <td>0</td>\n",
       "      <td>1</td>\n",
       "      <td>99</td>\n",
       "      <td>NaN</td>\n",
       "      <td>2016-08-21 11:18:49</td>\n",
       "      <td>NaN</td>\n",
       "      <td>NaN</td>\n",
       "      <td>NaN</td>\n",
       "      <td>0</td>\n",
       "      <td>NaN</td>\n",
       "      <td>NaN</td>\n",
       "      <td>caipu/101006.jpg</td>\n",
       "      <td>1579</td>\n",
       "    </tr>\n",
       "    <tr>\n",
       "      <th>3</th>\n",
       "      <td>3091</td>\n",
       "      <td>431</td>\n",
       "      <td>609956</td>\n",
       "      <td>NaN</td>\n",
       "      <td>NaN</td>\n",
       "      <td>孜然羊排</td>\n",
       "      <td>0</td>\n",
       "      <td>1</td>\n",
       "      <td>88</td>\n",
       "      <td>NaN</td>\n",
       "      <td>2016-08-21 11:20:33</td>\n",
       "      <td>NaN</td>\n",
       "      <td>NaN</td>\n",
       "      <td>NaN</td>\n",
       "      <td>0</td>\n",
       "      <td>NaN</td>\n",
       "      <td>NaN</td>\n",
       "      <td>caipu/202002.jpg</td>\n",
       "      <td>1579</td>\n",
       "    </tr>\n",
       "    <tr>\n",
       "      <th>4</th>\n",
       "      <td>3094</td>\n",
       "      <td>431</td>\n",
       "      <td>609957</td>\n",
       "      <td>NaN</td>\n",
       "      <td>NaN</td>\n",
       "      <td>蒙古烤羊腿\\r\\n\\r\\n\\r\\n</td>\n",
       "      <td>0</td>\n",
       "      <td>1</td>\n",
       "      <td>48</td>\n",
       "      <td>NaN</td>\n",
       "      <td>2016-08-21 11:20:36</td>\n",
       "      <td>NaN</td>\n",
       "      <td>NaN</td>\n",
       "      <td>NaN</td>\n",
       "      <td>0</td>\n",
       "      <td>NaN</td>\n",
       "      <td>NaN</td>\n",
       "      <td>caipu/202003.jpg</td>\n",
       "      <td>1579</td>\n",
       "    </tr>\n",
       "    <tr>\n",
       "      <th>5</th>\n",
       "      <td>3099</td>\n",
       "      <td>431</td>\n",
       "      <td>610003</td>\n",
       "      <td>NaN</td>\n",
       "      <td>NaN</td>\n",
       "      <td>蒜香包</td>\n",
       "      <td>0</td>\n",
       "      <td>1</td>\n",
       "      <td>13</td>\n",
       "      <td>NaN</td>\n",
       "      <td>2016-08-21 11:23:24</td>\n",
       "      <td>NaN</td>\n",
       "      <td>NaN</td>\n",
       "      <td>NaN</td>\n",
       "      <td>0</td>\n",
       "      <td>NaN</td>\n",
       "      <td>NaN</td>\n",
       "      <td>caipu/503002.jpg</td>\n",
       "      <td>1579</td>\n",
       "    </tr>\n",
       "    <tr>\n",
       "      <th>6</th>\n",
       "      <td>3102</td>\n",
       "      <td>431</td>\n",
       "      <td>610027</td>\n",
       "      <td>NaN</td>\n",
       "      <td>NaN</td>\n",
       "      <td>清炒菊花菜</td>\n",
       "      <td>0</td>\n",
       "      <td>1</td>\n",
       "      <td>30</td>\n",
       "      <td>NaN</td>\n",
       "      <td>2016-08-21 11:25:48</td>\n",
       "      <td>NaN</td>\n",
       "      <td>NaN</td>\n",
       "      <td>NaN</td>\n",
       "      <td>0</td>\n",
       "      <td>NaN</td>\n",
       "      <td>NaN</td>\n",
       "      <td>caipu/304001.jpg</td>\n",
       "      <td>1579</td>\n",
       "    </tr>\n",
       "    <tr>\n",
       "      <th>7</th>\n",
       "      <td>3106</td>\n",
       "      <td>431</td>\n",
       "      <td>610072</td>\n",
       "      <td>NaN</td>\n",
       "      <td>NaN</td>\n",
       "      <td>53度茅台</td>\n",
       "      <td>0</td>\n",
       "      <td>1</td>\n",
       "      <td>128</td>\n",
       "      <td>NaN</td>\n",
       "      <td>2016-08-21 11:26:24</td>\n",
       "      <td>NaN</td>\n",
       "      <td>NaN</td>\n",
       "      <td>NaN</td>\n",
       "      <td>0</td>\n",
       "      <td>NaN</td>\n",
       "      <td>NaN</td>\n",
       "      <td>caipu/401005.jpg</td>\n",
       "      <td>1579</td>\n",
       "    </tr>\n",
       "    <tr>\n",
       "      <th>8</th>\n",
       "      <td>3104</td>\n",
       "      <td>431</td>\n",
       "      <td>610011</td>\n",
       "      <td>NaN</td>\n",
       "      <td>NaN</td>\n",
       "      <td>白饭/大碗</td>\n",
       "      <td>0</td>\n",
       "      <td>4</td>\n",
       "      <td>10</td>\n",
       "      <td>NaN</td>\n",
       "      <td>2016-08-21 11:26:27</td>\n",
       "      <td>NaN</td>\n",
       "      <td>NaN</td>\n",
       "      <td>NaN</td>\n",
       "      <td>0</td>\n",
       "      <td>NaN</td>\n",
       "      <td>NaN</td>\n",
       "      <td>caipu/601005.jpg</td>\n",
       "      <td>1579</td>\n",
       "    </tr>\n",
       "    <tr>\n",
       "      <th>9</th>\n",
       "      <td>3109</td>\n",
       "      <td>431</td>\n",
       "      <td>609992</td>\n",
       "      <td>NaN</td>\n",
       "      <td>NaN</td>\n",
       "      <td>番茄炖牛腩\\r\\n\\r\\n\\r\\n</td>\n",
       "      <td>0</td>\n",
       "      <td>1</td>\n",
       "      <td>35</td>\n",
       "      <td>NaN</td>\n",
       "      <td>2016-08-21 11:27:14</td>\n",
       "      <td>NaN</td>\n",
       "      <td>NaN</td>\n",
       "      <td>NaN</td>\n",
       "      <td>0</td>\n",
       "      <td>NaN</td>\n",
       "      <td>NaN</td>\n",
       "      <td>caipu/201002.jpg</td>\n",
       "      <td>1579</td>\n",
       "    </tr>\n",
       "  </tbody>\n",
       "</table>\n",
       "</div>"
      ],
      "text/plain": [
       "   detail_id  order_id  dishes_id  logicprn_name  parent_class_name  \\\n",
       "0       3085       431     609966            NaN                NaN   \n",
       "1       3086       431     609942            NaN                NaN   \n",
       "2       3088       431     609970            NaN                NaN   \n",
       "3       3091       431     609956            NaN                NaN   \n",
       "4       3094       431     609957            NaN                NaN   \n",
       "5       3099       431     610003            NaN                NaN   \n",
       "6       3102       431     610027            NaN                NaN   \n",
       "7       3106       431     610072            NaN                NaN   \n",
       "8       3104       431     610011            NaN                NaN   \n",
       "9       3109       431     609992            NaN                NaN   \n",
       "\n",
       "         dishes_name  itemis_add  counts  amounts  cost    place_order_time  \\\n",
       "0           芝士烩波士顿龙虾           0       1      175   NaN 2016-08-21 11:16:07   \n",
       "1               辣炒鱿鱼           0       1       58   NaN 2016-08-21 11:17:32   \n",
       "2              麻辣小龙虾           0       1       99   NaN 2016-08-21 11:18:49   \n",
       "3               孜然羊排           0       1       88   NaN 2016-08-21 11:20:33   \n",
       "4  蒙古烤羊腿\\r\\n\\r\\n\\r\\n           0       1       48   NaN 2016-08-21 11:20:36   \n",
       "5                蒜香包           0       1       13   NaN 2016-08-21 11:23:24   \n",
       "6              清炒菊花菜           0       1       30   NaN 2016-08-21 11:25:48   \n",
       "7              53度茅台           0       1      128   NaN 2016-08-21 11:26:24   \n",
       "8              白饭/大碗           0       4       10   NaN 2016-08-21 11:26:27   \n",
       "9  番茄炖牛腩\\r\\n\\r\\n\\r\\n           0       1       35   NaN 2016-08-21 11:27:14   \n",
       "\n",
       "   discount_amt  discount_reason  kick_back  add_inprice  add_info  bar_code  \\\n",
       "0           NaN              NaN        NaN            0       NaN       NaN   \n",
       "1           NaN              NaN        NaN            0       NaN       NaN   \n",
       "2           NaN              NaN        NaN            0       NaN       NaN   \n",
       "3           NaN              NaN        NaN            0       NaN       NaN   \n",
       "4           NaN              NaN        NaN            0       NaN       NaN   \n",
       "5           NaN              NaN        NaN            0       NaN       NaN   \n",
       "6           NaN              NaN        NaN            0       NaN       NaN   \n",
       "7           NaN              NaN        NaN            0       NaN       NaN   \n",
       "8           NaN              NaN        NaN            0       NaN       NaN   \n",
       "9           NaN              NaN        NaN            0       NaN       NaN   \n",
       "\n",
       "       picture_file  emp_id  \n",
       "0  caipu/101001.jpg    1579  \n",
       "1  caipu/103003.jpg    1579  \n",
       "2  caipu/101006.jpg    1579  \n",
       "3  caipu/202002.jpg    1579  \n",
       "4  caipu/202003.jpg    1579  \n",
       "5  caipu/503002.jpg    1579  \n",
       "6  caipu/304001.jpg    1579  \n",
       "7  caipu/401005.jpg    1579  \n",
       "8  caipu/601005.jpg    1579  \n",
       "9  caipu/201002.jpg    1579  "
      ]
     },
     "execution_count": 423,
     "metadata": {},
     "output_type": "execute_result"
    }
   ],
   "source": [
    "df = mealInfo.head(10).copy()\n",
    "df"
   ]
  },
  {
   "cell_type": "markdown",
   "metadata": {},
   "source": [
    "**注意Bug**\n",
    "> SettingWithCopyWarning:  A value is trying to be set on a copy of a slice from a DataFrame. Try using .loc[row_indexer,col_indexer] = value instead\n",
    "\n",
    "报了一个警告，解决：向副本增加新的内容或是删改数据，之前应该将副本拷贝一下（所以前面用来copy方法）"
   ]
  },
  {
   "cell_type": "code",
   "execution_count": 372,
   "metadata": {},
   "outputs": [
    {
     "data": {
      "text/plain": [
       "Index(['detail_id', 'order_id', 'dishes_id', 'logicprn_name',\n",
       "       'parent_class_name', 'dishes_name', 'itemis_add', 'counts', 'amounts',\n",
       "       'cost', 'place_order_time', 'discount_amt', 'discount_reason',\n",
       "       'kick_back', 'add_inprice', 'add_info', 'bar_code', 'picture_file',\n",
       "       'emp_id'],\n",
       "      dtype='object')"
      ]
     },
     "execution_count": 372,
     "metadata": {},
     "output_type": "execute_result"
    }
   ],
   "source": [
    "mealInfo.columns\n",
    "#dishes_name菜名，counts菜数量，amounts菜金额，order_id订单号（一个订单可以有多个菜），dishes_id菜品id"
   ]
  },
  {
   "cell_type": "code",
   "execution_count": 400,
   "metadata": {},
   "outputs": [
    {
     "data": {
      "text/html": [
       "<div>\n",
       "<style scoped>\n",
       "    .dataframe tbody tr th:only-of-type {\n",
       "        vertical-align: middle;\n",
       "    }\n",
       "\n",
       "    .dataframe tbody tr th {\n",
       "        vertical-align: top;\n",
       "    }\n",
       "\n",
       "    .dataframe thead th {\n",
       "        text-align: right;\n",
       "    }\n",
       "</style>\n",
       "<table border=\"1\" class=\"dataframe\">\n",
       "  <thead>\n",
       "    <tr style=\"text-align: right;\">\n",
       "      <th></th>\n",
       "      <th>detail_id</th>\n",
       "      <th>order_id</th>\n",
       "      <th>dishes_id</th>\n",
       "      <th>logicprn_name</th>\n",
       "      <th>parent_class_name</th>\n",
       "      <th>dishes_name</th>\n",
       "      <th>itemis_add</th>\n",
       "      <th>counts</th>\n",
       "      <th>amounts</th>\n",
       "      <th>cost</th>\n",
       "      <th>place_order_time</th>\n",
       "      <th>discount_amt</th>\n",
       "      <th>discount_reason</th>\n",
       "      <th>kick_back</th>\n",
       "      <th>add_inprice</th>\n",
       "      <th>add_info</th>\n",
       "      <th>bar_code</th>\n",
       "      <th>picture_file</th>\n",
       "      <th>emp_id</th>\n",
       "    </tr>\n",
       "  </thead>\n",
       "  <tbody>\n",
       "    <tr>\n",
       "      <th>0</th>\n",
       "      <td>3085</td>\n",
       "      <td>431</td>\n",
       "      <td>609966</td>\n",
       "      <td>NaN</td>\n",
       "      <td>NaN</td>\n",
       "      <td>芝士烩波士顿龙虾</td>\n",
       "      <td>0</td>\n",
       "      <td>1</td>\n",
       "      <td>175</td>\n",
       "      <td>NaN</td>\n",
       "      <td>2016-08-21 11:16:07</td>\n",
       "      <td>NaN</td>\n",
       "      <td>NaN</td>\n",
       "      <td>NaN</td>\n",
       "      <td>0</td>\n",
       "      <td>NaN</td>\n",
       "      <td>NaN</td>\n",
       "      <td>caipu/101001.jpg</td>\n",
       "      <td>1579</td>\n",
       "    </tr>\n",
       "    <tr>\n",
       "      <th>1</th>\n",
       "      <td>3086</td>\n",
       "      <td>431</td>\n",
       "      <td>609942</td>\n",
       "      <td>NaN</td>\n",
       "      <td>NaN</td>\n",
       "      <td>辣炒鱿鱼</td>\n",
       "      <td>0</td>\n",
       "      <td>1</td>\n",
       "      <td>58</td>\n",
       "      <td>NaN</td>\n",
       "      <td>2016-08-21 11:17:32</td>\n",
       "      <td>NaN</td>\n",
       "      <td>NaN</td>\n",
       "      <td>NaN</td>\n",
       "      <td>0</td>\n",
       "      <td>NaN</td>\n",
       "      <td>NaN</td>\n",
       "      <td>caipu/103003.jpg</td>\n",
       "      <td>1579</td>\n",
       "    </tr>\n",
       "    <tr>\n",
       "      <th>2</th>\n",
       "      <td>3088</td>\n",
       "      <td>431</td>\n",
       "      <td>609970</td>\n",
       "      <td>NaN</td>\n",
       "      <td>NaN</td>\n",
       "      <td>麻辣小龙虾</td>\n",
       "      <td>0</td>\n",
       "      <td>1</td>\n",
       "      <td>99</td>\n",
       "      <td>NaN</td>\n",
       "      <td>2016-08-21 11:18:49</td>\n",
       "      <td>NaN</td>\n",
       "      <td>NaN</td>\n",
       "      <td>NaN</td>\n",
       "      <td>0</td>\n",
       "      <td>NaN</td>\n",
       "      <td>NaN</td>\n",
       "      <td>caipu/101006.jpg</td>\n",
       "      <td>1579</td>\n",
       "    </tr>\n",
       "    <tr>\n",
       "      <th>3</th>\n",
       "      <td>3091</td>\n",
       "      <td>431</td>\n",
       "      <td>609956</td>\n",
       "      <td>NaN</td>\n",
       "      <td>NaN</td>\n",
       "      <td>孜然羊排</td>\n",
       "      <td>0</td>\n",
       "      <td>1</td>\n",
       "      <td>88</td>\n",
       "      <td>NaN</td>\n",
       "      <td>2016-08-21 11:20:33</td>\n",
       "      <td>NaN</td>\n",
       "      <td>NaN</td>\n",
       "      <td>NaN</td>\n",
       "      <td>0</td>\n",
       "      <td>NaN</td>\n",
       "      <td>NaN</td>\n",
       "      <td>caipu/202002.jpg</td>\n",
       "      <td>1579</td>\n",
       "    </tr>\n",
       "    <tr>\n",
       "      <th>4</th>\n",
       "      <td>3094</td>\n",
       "      <td>431</td>\n",
       "      <td>609957</td>\n",
       "      <td>NaN</td>\n",
       "      <td>NaN</td>\n",
       "      <td>蒙古烤羊腿\\r\\n\\r\\n\\r\\n</td>\n",
       "      <td>0</td>\n",
       "      <td>1</td>\n",
       "      <td>48</td>\n",
       "      <td>NaN</td>\n",
       "      <td>2016-08-21 11:20:36</td>\n",
       "      <td>NaN</td>\n",
       "      <td>NaN</td>\n",
       "      <td>NaN</td>\n",
       "      <td>0</td>\n",
       "      <td>NaN</td>\n",
       "      <td>NaN</td>\n",
       "      <td>caipu/202003.jpg</td>\n",
       "      <td>1579</td>\n",
       "    </tr>\n",
       "  </tbody>\n",
       "</table>\n",
       "</div>"
      ],
      "text/plain": [
       "   detail_id  order_id  dishes_id  logicprn_name  parent_class_name  \\\n",
       "0       3085       431     609966            NaN                NaN   \n",
       "1       3086       431     609942            NaN                NaN   \n",
       "2       3088       431     609970            NaN                NaN   \n",
       "3       3091       431     609956            NaN                NaN   \n",
       "4       3094       431     609957            NaN                NaN   \n",
       "\n",
       "         dishes_name  itemis_add  counts  amounts  cost    place_order_time  \\\n",
       "0           芝士烩波士顿龙虾           0       1      175   NaN 2016-08-21 11:16:07   \n",
       "1               辣炒鱿鱼           0       1       58   NaN 2016-08-21 11:17:32   \n",
       "2              麻辣小龙虾           0       1       99   NaN 2016-08-21 11:18:49   \n",
       "3               孜然羊排           0       1       88   NaN 2016-08-21 11:20:33   \n",
       "4  蒙古烤羊腿\\r\\n\\r\\n\\r\\n           0       1       48   NaN 2016-08-21 11:20:36   \n",
       "\n",
       "   discount_amt  discount_reason  kick_back  add_inprice  add_info  bar_code  \\\n",
       "0           NaN              NaN        NaN            0       NaN       NaN   \n",
       "1           NaN              NaN        NaN            0       NaN       NaN   \n",
       "2           NaN              NaN        NaN            0       NaN       NaN   \n",
       "3           NaN              NaN        NaN            0       NaN       NaN   \n",
       "4           NaN              NaN        NaN            0       NaN       NaN   \n",
       "\n",
       "       picture_file  emp_id  \n",
       "0  caipu/101001.jpg    1579  \n",
       "1  caipu/103003.jpg    1579  \n",
       "2  caipu/101006.jpg    1579  \n",
       "3  caipu/202002.jpg    1579  \n",
       "4  caipu/202003.jpg    1579  "
      ]
     },
     "execution_count": 400,
     "metadata": {},
     "output_type": "execute_result"
    }
   ],
   "source": [
    "df.head()"
   ]
  },
  {
   "cell_type": "code",
   "execution_count": 424,
   "metadata": {
    "scrolled": true
   },
   "outputs": [
    {
     "data": {
      "text/html": [
       "<div>\n",
       "<style scoped>\n",
       "    .dataframe tbody tr th:only-of-type {\n",
       "        vertical-align: middle;\n",
       "    }\n",
       "\n",
       "    .dataframe tbody tr th {\n",
       "        vertical-align: top;\n",
       "    }\n",
       "\n",
       "    .dataframe thead th {\n",
       "        text-align: right;\n",
       "    }\n",
       "</style>\n",
       "<table border=\"1\" class=\"dataframe\">\n",
       "  <thead>\n",
       "    <tr style=\"text-align: right;\">\n",
       "      <th></th>\n",
       "      <th>detail_id</th>\n",
       "      <th>order_id</th>\n",
       "      <th>dishes_id</th>\n",
       "      <th>logicprn_name</th>\n",
       "      <th>parent_class_name</th>\n",
       "      <th>dishes_name</th>\n",
       "      <th>itemis_add</th>\n",
       "      <th>counts</th>\n",
       "      <th>amounts</th>\n",
       "      <th>cost</th>\n",
       "      <th>...</th>\n",
       "      <th>discount_amt</th>\n",
       "      <th>discount_reason</th>\n",
       "      <th>kick_back</th>\n",
       "      <th>add_inprice</th>\n",
       "      <th>add_info</th>\n",
       "      <th>bar_code</th>\n",
       "      <th>picture_file</th>\n",
       "      <th>emp_id</th>\n",
       "      <th>pay</th>\n",
       "      <th>pay_time</th>\n",
       "    </tr>\n",
       "  </thead>\n",
       "  <tbody>\n",
       "    <tr>\n",
       "      <th>0</th>\n",
       "      <td>3085</td>\n",
       "      <td>431</td>\n",
       "      <td>609966</td>\n",
       "      <td>NaN</td>\n",
       "      <td>NaN</td>\n",
       "      <td>芝士烩波士顿龙虾</td>\n",
       "      <td>0</td>\n",
       "      <td>1</td>\n",
       "      <td>175</td>\n",
       "      <td>NaN</td>\n",
       "      <td>...</td>\n",
       "      <td>NaN</td>\n",
       "      <td>NaN</td>\n",
       "      <td>NaN</td>\n",
       "      <td>0</td>\n",
       "      <td>NaN</td>\n",
       "      <td>NaN</td>\n",
       "      <td>caipu/101001.jpg</td>\n",
       "      <td>1579</td>\n",
       "      <td>175</td>\n",
       "      <td>2018-08-04</td>\n",
       "    </tr>\n",
       "    <tr>\n",
       "      <th>1</th>\n",
       "      <td>3086</td>\n",
       "      <td>431</td>\n",
       "      <td>609942</td>\n",
       "      <td>NaN</td>\n",
       "      <td>NaN</td>\n",
       "      <td>辣炒鱿鱼</td>\n",
       "      <td>0</td>\n",
       "      <td>1</td>\n",
       "      <td>58</td>\n",
       "      <td>NaN</td>\n",
       "      <td>...</td>\n",
       "      <td>NaN</td>\n",
       "      <td>NaN</td>\n",
       "      <td>NaN</td>\n",
       "      <td>0</td>\n",
       "      <td>NaN</td>\n",
       "      <td>NaN</td>\n",
       "      <td>caipu/103003.jpg</td>\n",
       "      <td>1579</td>\n",
       "      <td>58</td>\n",
       "      <td>2018-08-04</td>\n",
       "    </tr>\n",
       "    <tr>\n",
       "      <th>2</th>\n",
       "      <td>3088</td>\n",
       "      <td>431</td>\n",
       "      <td>609970</td>\n",
       "      <td>NaN</td>\n",
       "      <td>NaN</td>\n",
       "      <td>麻辣小龙虾</td>\n",
       "      <td>0</td>\n",
       "      <td>1</td>\n",
       "      <td>99</td>\n",
       "      <td>NaN</td>\n",
       "      <td>...</td>\n",
       "      <td>NaN</td>\n",
       "      <td>NaN</td>\n",
       "      <td>NaN</td>\n",
       "      <td>0</td>\n",
       "      <td>NaN</td>\n",
       "      <td>NaN</td>\n",
       "      <td>caipu/101006.jpg</td>\n",
       "      <td>1579</td>\n",
       "      <td>99</td>\n",
       "      <td>2018-08-04</td>\n",
       "    </tr>\n",
       "    <tr>\n",
       "      <th>3</th>\n",
       "      <td>3091</td>\n",
       "      <td>431</td>\n",
       "      <td>609956</td>\n",
       "      <td>NaN</td>\n",
       "      <td>NaN</td>\n",
       "      <td>孜然羊排</td>\n",
       "      <td>0</td>\n",
       "      <td>1</td>\n",
       "      <td>88</td>\n",
       "      <td>NaN</td>\n",
       "      <td>...</td>\n",
       "      <td>NaN</td>\n",
       "      <td>NaN</td>\n",
       "      <td>NaN</td>\n",
       "      <td>0</td>\n",
       "      <td>NaN</td>\n",
       "      <td>NaN</td>\n",
       "      <td>caipu/202002.jpg</td>\n",
       "      <td>1579</td>\n",
       "      <td>88</td>\n",
       "      <td>2018-08-04</td>\n",
       "    </tr>\n",
       "    <tr>\n",
       "      <th>4</th>\n",
       "      <td>3094</td>\n",
       "      <td>431</td>\n",
       "      <td>609957</td>\n",
       "      <td>NaN</td>\n",
       "      <td>NaN</td>\n",
       "      <td>蒙古烤羊腿\\r\\n\\r\\n\\r\\n</td>\n",
       "      <td>0</td>\n",
       "      <td>1</td>\n",
       "      <td>48</td>\n",
       "      <td>NaN</td>\n",
       "      <td>...</td>\n",
       "      <td>NaN</td>\n",
       "      <td>NaN</td>\n",
       "      <td>NaN</td>\n",
       "      <td>0</td>\n",
       "      <td>NaN</td>\n",
       "      <td>NaN</td>\n",
       "      <td>caipu/202003.jpg</td>\n",
       "      <td>1579</td>\n",
       "      <td>48</td>\n",
       "      <td>2018-08-04</td>\n",
       "    </tr>\n",
       "  </tbody>\n",
       "</table>\n",
       "<p>5 rows × 21 columns</p>\n",
       "</div>"
      ],
      "text/plain": [
       "   detail_id  order_id  dishes_id  logicprn_name  parent_class_name  \\\n",
       "0       3085       431     609966            NaN                NaN   \n",
       "1       3086       431     609942            NaN                NaN   \n",
       "2       3088       431     609970            NaN                NaN   \n",
       "3       3091       431     609956            NaN                NaN   \n",
       "4       3094       431     609957            NaN                NaN   \n",
       "\n",
       "         dishes_name  itemis_add  counts  amounts  cost     ...      \\\n",
       "0           芝士烩波士顿龙虾           0       1      175   NaN     ...       \n",
       "1               辣炒鱿鱼           0       1       58   NaN     ...       \n",
       "2              麻辣小龙虾           0       1       99   NaN     ...       \n",
       "3               孜然羊排           0       1       88   NaN     ...       \n",
       "4  蒙古烤羊腿\\r\\n\\r\\n\\r\\n           0       1       48   NaN     ...       \n",
       "\n",
       "  discount_amt  discount_reason  kick_back  add_inprice  add_info  bar_code  \\\n",
       "0          NaN              NaN        NaN            0       NaN       NaN   \n",
       "1          NaN              NaN        NaN            0       NaN       NaN   \n",
       "2          NaN              NaN        NaN            0       NaN       NaN   \n",
       "3          NaN              NaN        NaN            0       NaN       NaN   \n",
       "4          NaN              NaN        NaN            0       NaN       NaN   \n",
       "\n",
       "       picture_file emp_id  pay    pay_time  \n",
       "0  caipu/101001.jpg   1579  175  2018-08-04  \n",
       "1  caipu/103003.jpg   1579   58  2018-08-04  \n",
       "2  caipu/101006.jpg   1579   99  2018-08-04  \n",
       "3  caipu/202002.jpg   1579   88  2018-08-04  \n",
       "4  caipu/202003.jpg   1579   48  2018-08-04  \n",
       "\n",
       "[5 rows x 21 columns]"
      ]
     },
     "execution_count": 424,
     "metadata": {},
     "output_type": "execute_result"
    }
   ],
   "source": [
    "#增加\n",
    "df['pay'] = df['counts']*df['amounts']\n",
    "# df\n",
    "df['pay_time'] = '2018-08-04'\n",
    "df.head()"
   ]
  },
  {
   "cell_type": "code",
   "execution_count": 427,
   "metadata": {
    "scrolled": true
   },
   "outputs": [
    {
     "data": {
      "text/html": [
       "<div>\n",
       "<style scoped>\n",
       "    .dataframe tbody tr th:only-of-type {\n",
       "        vertical-align: middle;\n",
       "    }\n",
       "\n",
       "    .dataframe tbody tr th {\n",
       "        vertical-align: top;\n",
       "    }\n",
       "\n",
       "    .dataframe thead th {\n",
       "        text-align: right;\n",
       "    }\n",
       "</style>\n",
       "<table border=\"1\" class=\"dataframe\">\n",
       "  <thead>\n",
       "    <tr style=\"text-align: right;\">\n",
       "      <th></th>\n",
       "      <th>detail_id</th>\n",
       "      <th>order_id</th>\n",
       "      <th>dishes_id</th>\n",
       "      <th>logicprn_name</th>\n",
       "      <th>parent_class_name</th>\n",
       "      <th>dishes_name</th>\n",
       "      <th>itemis_add</th>\n",
       "      <th>counts</th>\n",
       "      <th>amounts</th>\n",
       "      <th>cost</th>\n",
       "      <th>place_order_time</th>\n",
       "      <th>discount_amt</th>\n",
       "      <th>discount_reason</th>\n",
       "      <th>kick_back</th>\n",
       "      <th>add_inprice</th>\n",
       "      <th>add_info</th>\n",
       "      <th>bar_code</th>\n",
       "      <th>picture_file</th>\n",
       "      <th>emp_id</th>\n",
       "      <th>pay</th>\n",
       "    </tr>\n",
       "  </thead>\n",
       "  <tbody>\n",
       "    <tr>\n",
       "      <th>0</th>\n",
       "      <td>3085</td>\n",
       "      <td>431</td>\n",
       "      <td>609966</td>\n",
       "      <td>NaN</td>\n",
       "      <td>NaN</td>\n",
       "      <td>芝士烩波士顿龙虾</td>\n",
       "      <td>0</td>\n",
       "      <td>1</td>\n",
       "      <td>175</td>\n",
       "      <td>NaN</td>\n",
       "      <td>2016-08-21 11:16:07</td>\n",
       "      <td>NaN</td>\n",
       "      <td>NaN</td>\n",
       "      <td>NaN</td>\n",
       "      <td>0</td>\n",
       "      <td>NaN</td>\n",
       "      <td>NaN</td>\n",
       "      <td>caipu/101001.jpg</td>\n",
       "      <td>1579</td>\n",
       "      <td>175</td>\n",
       "    </tr>\n",
       "    <tr>\n",
       "      <th>1</th>\n",
       "      <td>3086</td>\n",
       "      <td>431</td>\n",
       "      <td>609942</td>\n",
       "      <td>NaN</td>\n",
       "      <td>NaN</td>\n",
       "      <td>辣炒鱿鱼</td>\n",
       "      <td>0</td>\n",
       "      <td>1</td>\n",
       "      <td>58</td>\n",
       "      <td>NaN</td>\n",
       "      <td>2016-08-21 11:17:32</td>\n",
       "      <td>NaN</td>\n",
       "      <td>NaN</td>\n",
       "      <td>NaN</td>\n",
       "      <td>0</td>\n",
       "      <td>NaN</td>\n",
       "      <td>NaN</td>\n",
       "      <td>caipu/103003.jpg</td>\n",
       "      <td>1579</td>\n",
       "      <td>58</td>\n",
       "    </tr>\n",
       "    <tr>\n",
       "      <th>2</th>\n",
       "      <td>3088</td>\n",
       "      <td>431</td>\n",
       "      <td>609970</td>\n",
       "      <td>NaN</td>\n",
       "      <td>NaN</td>\n",
       "      <td>麻辣小龙虾</td>\n",
       "      <td>0</td>\n",
       "      <td>1</td>\n",
       "      <td>99</td>\n",
       "      <td>NaN</td>\n",
       "      <td>2016-08-21 11:18:49</td>\n",
       "      <td>NaN</td>\n",
       "      <td>NaN</td>\n",
       "      <td>NaN</td>\n",
       "      <td>0</td>\n",
       "      <td>NaN</td>\n",
       "      <td>NaN</td>\n",
       "      <td>caipu/101006.jpg</td>\n",
       "      <td>1579</td>\n",
       "      <td>99</td>\n",
       "    </tr>\n",
       "    <tr>\n",
       "      <th>3</th>\n",
       "      <td>3091</td>\n",
       "      <td>431</td>\n",
       "      <td>609956</td>\n",
       "      <td>NaN</td>\n",
       "      <td>NaN</td>\n",
       "      <td>孜然羊排</td>\n",
       "      <td>0</td>\n",
       "      <td>1</td>\n",
       "      <td>88</td>\n",
       "      <td>NaN</td>\n",
       "      <td>2016-08-21 11:20:33</td>\n",
       "      <td>NaN</td>\n",
       "      <td>NaN</td>\n",
       "      <td>NaN</td>\n",
       "      <td>0</td>\n",
       "      <td>NaN</td>\n",
       "      <td>NaN</td>\n",
       "      <td>caipu/202002.jpg</td>\n",
       "      <td>1579</td>\n",
       "      <td>88</td>\n",
       "    </tr>\n",
       "    <tr>\n",
       "      <th>4</th>\n",
       "      <td>3094</td>\n",
       "      <td>431</td>\n",
       "      <td>609957</td>\n",
       "      <td>NaN</td>\n",
       "      <td>NaN</td>\n",
       "      <td>蒙古烤羊腿\\r\\n\\r\\n\\r\\n</td>\n",
       "      <td>0</td>\n",
       "      <td>1</td>\n",
       "      <td>48</td>\n",
       "      <td>NaN</td>\n",
       "      <td>2016-08-21 11:20:36</td>\n",
       "      <td>NaN</td>\n",
       "      <td>NaN</td>\n",
       "      <td>NaN</td>\n",
       "      <td>0</td>\n",
       "      <td>NaN</td>\n",
       "      <td>NaN</td>\n",
       "      <td>caipu/202003.jpg</td>\n",
       "      <td>1579</td>\n",
       "      <td>48</td>\n",
       "    </tr>\n",
       "    <tr>\n",
       "      <th>5</th>\n",
       "      <td>3099</td>\n",
       "      <td>431</td>\n",
       "      <td>610003</td>\n",
       "      <td>NaN</td>\n",
       "      <td>NaN</td>\n",
       "      <td>蒜香包</td>\n",
       "      <td>0</td>\n",
       "      <td>1</td>\n",
       "      <td>13</td>\n",
       "      <td>NaN</td>\n",
       "      <td>2016-08-21 11:23:24</td>\n",
       "      <td>NaN</td>\n",
       "      <td>NaN</td>\n",
       "      <td>NaN</td>\n",
       "      <td>0</td>\n",
       "      <td>NaN</td>\n",
       "      <td>NaN</td>\n",
       "      <td>caipu/503002.jpg</td>\n",
       "      <td>1579</td>\n",
       "      <td>13</td>\n",
       "    </tr>\n",
       "    <tr>\n",
       "      <th>6</th>\n",
       "      <td>3102</td>\n",
       "      <td>431</td>\n",
       "      <td>610027</td>\n",
       "      <td>NaN</td>\n",
       "      <td>NaN</td>\n",
       "      <td>清炒菊花菜</td>\n",
       "      <td>0</td>\n",
       "      <td>1</td>\n",
       "      <td>30</td>\n",
       "      <td>NaN</td>\n",
       "      <td>2016-08-21 11:25:48</td>\n",
       "      <td>NaN</td>\n",
       "      <td>NaN</td>\n",
       "      <td>NaN</td>\n",
       "      <td>0</td>\n",
       "      <td>NaN</td>\n",
       "      <td>NaN</td>\n",
       "      <td>caipu/304001.jpg</td>\n",
       "      <td>1579</td>\n",
       "      <td>30</td>\n",
       "    </tr>\n",
       "    <tr>\n",
       "      <th>7</th>\n",
       "      <td>3106</td>\n",
       "      <td>431</td>\n",
       "      <td>610072</td>\n",
       "      <td>NaN</td>\n",
       "      <td>NaN</td>\n",
       "      <td>53度茅台</td>\n",
       "      <td>0</td>\n",
       "      <td>1</td>\n",
       "      <td>128</td>\n",
       "      <td>NaN</td>\n",
       "      <td>2016-08-21 11:26:24</td>\n",
       "      <td>NaN</td>\n",
       "      <td>NaN</td>\n",
       "      <td>NaN</td>\n",
       "      <td>0</td>\n",
       "      <td>NaN</td>\n",
       "      <td>NaN</td>\n",
       "      <td>caipu/401005.jpg</td>\n",
       "      <td>1579</td>\n",
       "      <td>128</td>\n",
       "    </tr>\n",
       "    <tr>\n",
       "      <th>8</th>\n",
       "      <td>3104</td>\n",
       "      <td>431</td>\n",
       "      <td>610011</td>\n",
       "      <td>NaN</td>\n",
       "      <td>NaN</td>\n",
       "      <td>白饭/大碗</td>\n",
       "      <td>0</td>\n",
       "      <td>4</td>\n",
       "      <td>10</td>\n",
       "      <td>NaN</td>\n",
       "      <td>2016-08-21 11:26:27</td>\n",
       "      <td>NaN</td>\n",
       "      <td>NaN</td>\n",
       "      <td>NaN</td>\n",
       "      <td>0</td>\n",
       "      <td>NaN</td>\n",
       "      <td>NaN</td>\n",
       "      <td>caipu/601005.jpg</td>\n",
       "      <td>1579</td>\n",
       "      <td>40</td>\n",
       "    </tr>\n",
       "    <tr>\n",
       "      <th>9</th>\n",
       "      <td>3109</td>\n",
       "      <td>431</td>\n",
       "      <td>609992</td>\n",
       "      <td>NaN</td>\n",
       "      <td>NaN</td>\n",
       "      <td>番茄炖牛腩\\r\\n\\r\\n\\r\\n</td>\n",
       "      <td>0</td>\n",
       "      <td>1</td>\n",
       "      <td>35</td>\n",
       "      <td>NaN</td>\n",
       "      <td>2016-08-21 11:27:14</td>\n",
       "      <td>NaN</td>\n",
       "      <td>NaN</td>\n",
       "      <td>NaN</td>\n",
       "      <td>0</td>\n",
       "      <td>NaN</td>\n",
       "      <td>NaN</td>\n",
       "      <td>caipu/201002.jpg</td>\n",
       "      <td>1579</td>\n",
       "      <td>35</td>\n",
       "    </tr>\n",
       "  </tbody>\n",
       "</table>\n",
       "</div>"
      ],
      "text/plain": [
       "   detail_id  order_id  dishes_id  logicprn_name  parent_class_name  \\\n",
       "0       3085       431     609966            NaN                NaN   \n",
       "1       3086       431     609942            NaN                NaN   \n",
       "2       3088       431     609970            NaN                NaN   \n",
       "3       3091       431     609956            NaN                NaN   \n",
       "4       3094       431     609957            NaN                NaN   \n",
       "5       3099       431     610003            NaN                NaN   \n",
       "6       3102       431     610027            NaN                NaN   \n",
       "7       3106       431     610072            NaN                NaN   \n",
       "8       3104       431     610011            NaN                NaN   \n",
       "9       3109       431     609992            NaN                NaN   \n",
       "\n",
       "         dishes_name  itemis_add  counts  amounts  cost    place_order_time  \\\n",
       "0           芝士烩波士顿龙虾           0       1      175   NaN 2016-08-21 11:16:07   \n",
       "1               辣炒鱿鱼           0       1       58   NaN 2016-08-21 11:17:32   \n",
       "2              麻辣小龙虾           0       1       99   NaN 2016-08-21 11:18:49   \n",
       "3               孜然羊排           0       1       88   NaN 2016-08-21 11:20:33   \n",
       "4  蒙古烤羊腿\\r\\n\\r\\n\\r\\n           0       1       48   NaN 2016-08-21 11:20:36   \n",
       "5                蒜香包           0       1       13   NaN 2016-08-21 11:23:24   \n",
       "6              清炒菊花菜           0       1       30   NaN 2016-08-21 11:25:48   \n",
       "7              53度茅台           0       1      128   NaN 2016-08-21 11:26:24   \n",
       "8              白饭/大碗           0       4       10   NaN 2016-08-21 11:26:27   \n",
       "9  番茄炖牛腩\\r\\n\\r\\n\\r\\n           0       1       35   NaN 2016-08-21 11:27:14   \n",
       "\n",
       "   discount_amt  discount_reason  kick_back  add_inprice  add_info  bar_code  \\\n",
       "0           NaN              NaN        NaN            0       NaN       NaN   \n",
       "1           NaN              NaN        NaN            0       NaN       NaN   \n",
       "2           NaN              NaN        NaN            0       NaN       NaN   \n",
       "3           NaN              NaN        NaN            0       NaN       NaN   \n",
       "4           NaN              NaN        NaN            0       NaN       NaN   \n",
       "5           NaN              NaN        NaN            0       NaN       NaN   \n",
       "6           NaN              NaN        NaN            0       NaN       NaN   \n",
       "7           NaN              NaN        NaN            0       NaN       NaN   \n",
       "8           NaN              NaN        NaN            0       NaN       NaN   \n",
       "9           NaN              NaN        NaN            0       NaN       NaN   \n",
       "\n",
       "       picture_file  emp_id  pay  \n",
       "0  caipu/101001.jpg    1579  175  \n",
       "1  caipu/103003.jpg    1579   58  \n",
       "2  caipu/101006.jpg    1579   99  \n",
       "3  caipu/202002.jpg    1579   88  \n",
       "4  caipu/202003.jpg    1579   48  \n",
       "5  caipu/503002.jpg    1579   13  \n",
       "6  caipu/304001.jpg    1579   30  \n",
       "7  caipu/401005.jpg    1579  128  \n",
       "8  caipu/601005.jpg    1579   40  \n",
       "9  caipu/201002.jpg    1579   35  "
      ]
     },
     "execution_count": 427,
     "metadata": {},
     "output_type": "execute_result"
    }
   ],
   "source": [
    "# df.head()\n",
    "#删除选定的列\n",
    "df.drop('pay_time',axis=1,inplace=True)\n",
    "# df.head()\n",
    "#删除选定的行\n",
    "# df.drop([0,1,2],axis=0,inplace=True)\n",
    "df\n",
    "#注意，不能重复执行"
   ]
  },
  {
   "cell_type": "code",
   "execution_count": 428,
   "metadata": {},
   "outputs": [
    {
     "data": {
      "text/html": [
       "<div>\n",
       "<style scoped>\n",
       "    .dataframe tbody tr th:only-of-type {\n",
       "        vertical-align: middle;\n",
       "    }\n",
       "\n",
       "    .dataframe tbody tr th {\n",
       "        vertical-align: top;\n",
       "    }\n",
       "\n",
       "    .dataframe thead th {\n",
       "        text-align: right;\n",
       "    }\n",
       "</style>\n",
       "<table border=\"1\" class=\"dataframe\">\n",
       "  <thead>\n",
       "    <tr style=\"text-align: right;\">\n",
       "      <th></th>\n",
       "      <th>detail_id</th>\n",
       "      <th>order_id</th>\n",
       "      <th>dishes_id</th>\n",
       "      <th>logicprn_name</th>\n",
       "      <th>parent_class_name</th>\n",
       "      <th>dishes_name</th>\n",
       "      <th>itemis_add</th>\n",
       "      <th>counts</th>\n",
       "      <th>amounts</th>\n",
       "      <th>cost</th>\n",
       "      <th>place_order_time</th>\n",
       "      <th>discount_amt</th>\n",
       "      <th>discount_reason</th>\n",
       "      <th>kick_back</th>\n",
       "      <th>add_inprice</th>\n",
       "      <th>add_info</th>\n",
       "      <th>bar_code</th>\n",
       "      <th>picture_file</th>\n",
       "      <th>emp_id</th>\n",
       "      <th>pay</th>\n",
       "    </tr>\n",
       "  </thead>\n",
       "  <tbody>\n",
       "    <tr>\n",
       "      <th>0</th>\n",
       "      <td>3085</td>\n",
       "      <td>431</td>\n",
       "      <td>609966</td>\n",
       "      <td>NaN</td>\n",
       "      <td>NaN</td>\n",
       "      <td>芝士烩波士顿龙虾</td>\n",
       "      <td>0</td>\n",
       "      <td>1</td>\n",
       "      <td>175</td>\n",
       "      <td>NaN</td>\n",
       "      <td>2016-08-21 11:16:07</td>\n",
       "      <td>NaN</td>\n",
       "      <td>NaN</td>\n",
       "      <td>NaN</td>\n",
       "      <td>0</td>\n",
       "      <td>NaN</td>\n",
       "      <td>NaN</td>\n",
       "      <td>caipu/101001.jpg</td>\n",
       "      <td>1579</td>\n",
       "      <td>175</td>\n",
       "    </tr>\n",
       "    <tr>\n",
       "      <th>1</th>\n",
       "      <td>3086</td>\n",
       "      <td>431</td>\n",
       "      <td>609942</td>\n",
       "      <td>NaN</td>\n",
       "      <td>NaN</td>\n",
       "      <td>辣炒鱿鱼</td>\n",
       "      <td>0</td>\n",
       "      <td>1</td>\n",
       "      <td>58</td>\n",
       "      <td>NaN</td>\n",
       "      <td>2016-08-21 11:17:32</td>\n",
       "      <td>NaN</td>\n",
       "      <td>NaN</td>\n",
       "      <td>NaN</td>\n",
       "      <td>0</td>\n",
       "      <td>NaN</td>\n",
       "      <td>NaN</td>\n",
       "      <td>caipu/103003.jpg</td>\n",
       "      <td>1579</td>\n",
       "      <td>58</td>\n",
       "    </tr>\n",
       "    <tr>\n",
       "      <th>2</th>\n",
       "      <td>3088</td>\n",
       "      <td>431</td>\n",
       "      <td>609970</td>\n",
       "      <td>NaN</td>\n",
       "      <td>NaN</td>\n",
       "      <td>麻辣小龙虾</td>\n",
       "      <td>0</td>\n",
       "      <td>1</td>\n",
       "      <td>99</td>\n",
       "      <td>NaN</td>\n",
       "      <td>2016-08-21 11:18:49</td>\n",
       "      <td>NaN</td>\n",
       "      <td>NaN</td>\n",
       "      <td>NaN</td>\n",
       "      <td>0</td>\n",
       "      <td>NaN</td>\n",
       "      <td>NaN</td>\n",
       "      <td>caipu/101006.jpg</td>\n",
       "      <td>1579</td>\n",
       "      <td>99</td>\n",
       "    </tr>\n",
       "    <tr>\n",
       "      <th>3</th>\n",
       "      <td>3091</td>\n",
       "      <td>431</td>\n",
       "      <td>609956</td>\n",
       "      <td>NaN</td>\n",
       "      <td>NaN</td>\n",
       "      <td>孜然羊排</td>\n",
       "      <td>0</td>\n",
       "      <td>1</td>\n",
       "      <td>88</td>\n",
       "      <td>NaN</td>\n",
       "      <td>2016-08-21 11:20:33</td>\n",
       "      <td>NaN</td>\n",
       "      <td>NaN</td>\n",
       "      <td>NaN</td>\n",
       "      <td>0</td>\n",
       "      <td>NaN</td>\n",
       "      <td>NaN</td>\n",
       "      <td>caipu/202002.jpg</td>\n",
       "      <td>1579</td>\n",
       "      <td>88</td>\n",
       "    </tr>\n",
       "    <tr>\n",
       "      <th>4</th>\n",
       "      <td>3094</td>\n",
       "      <td>431</td>\n",
       "      <td>609957</td>\n",
       "      <td>NaN</td>\n",
       "      <td>NaN</td>\n",
       "      <td>蒙古烤羊腿\\r\\n\\r\\n\\r\\n</td>\n",
       "      <td>0</td>\n",
       "      <td>1</td>\n",
       "      <td>48</td>\n",
       "      <td>NaN</td>\n",
       "      <td>2016-08-21 11:20:36</td>\n",
       "      <td>NaN</td>\n",
       "      <td>NaN</td>\n",
       "      <td>NaN</td>\n",
       "      <td>0</td>\n",
       "      <td>NaN</td>\n",
       "      <td>NaN</td>\n",
       "      <td>caipu/202003.jpg</td>\n",
       "      <td>1579</td>\n",
       "      <td>48</td>\n",
       "    </tr>\n",
       "    <tr>\n",
       "      <th>5</th>\n",
       "      <td>3099</td>\n",
       "      <td>431</td>\n",
       "      <td>610003</td>\n",
       "      <td>NaN</td>\n",
       "      <td>NaN</td>\n",
       "      <td>蒜香包</td>\n",
       "      <td>0</td>\n",
       "      <td>1</td>\n",
       "      <td>13</td>\n",
       "      <td>NaN</td>\n",
       "      <td>2016-08-21 11:23:24</td>\n",
       "      <td>NaN</td>\n",
       "      <td>NaN</td>\n",
       "      <td>NaN</td>\n",
       "      <td>0</td>\n",
       "      <td>NaN</td>\n",
       "      <td>NaN</td>\n",
       "      <td>caipu/503002.jpg</td>\n",
       "      <td>1579</td>\n",
       "      <td>13</td>\n",
       "    </tr>\n",
       "    <tr>\n",
       "      <th>6</th>\n",
       "      <td>3102</td>\n",
       "      <td>431</td>\n",
       "      <td>610027</td>\n",
       "      <td>NaN</td>\n",
       "      <td>NaN</td>\n",
       "      <td>清炒菊花菜</td>\n",
       "      <td>0</td>\n",
       "      <td>1</td>\n",
       "      <td>30</td>\n",
       "      <td>NaN</td>\n",
       "      <td>2016-08-21 11:25:48</td>\n",
       "      <td>NaN</td>\n",
       "      <td>NaN</td>\n",
       "      <td>NaN</td>\n",
       "      <td>0</td>\n",
       "      <td>NaN</td>\n",
       "      <td>NaN</td>\n",
       "      <td>caipu/304001.jpg</td>\n",
       "      <td>1579</td>\n",
       "      <td>30</td>\n",
       "    </tr>\n",
       "    <tr>\n",
       "      <th>7</th>\n",
       "      <td>3106</td>\n",
       "      <td>431</td>\n",
       "      <td>610072</td>\n",
       "      <td>NaN</td>\n",
       "      <td>NaN</td>\n",
       "      <td>53度茅台</td>\n",
       "      <td>0</td>\n",
       "      <td>1</td>\n",
       "      <td>128</td>\n",
       "      <td>NaN</td>\n",
       "      <td>2016-08-21 11:26:24</td>\n",
       "      <td>NaN</td>\n",
       "      <td>NaN</td>\n",
       "      <td>NaN</td>\n",
       "      <td>0</td>\n",
       "      <td>NaN</td>\n",
       "      <td>NaN</td>\n",
       "      <td>caipu/401005.jpg</td>\n",
       "      <td>1579</td>\n",
       "      <td>128</td>\n",
       "    </tr>\n",
       "    <tr>\n",
       "      <th>8</th>\n",
       "      <td>3104</td>\n",
       "      <td>431</td>\n",
       "      <td>610011</td>\n",
       "      <td>NaN</td>\n",
       "      <td>NaN</td>\n",
       "      <td>白饭/大碗</td>\n",
       "      <td>0</td>\n",
       "      <td>4</td>\n",
       "      <td>10</td>\n",
       "      <td>NaN</td>\n",
       "      <td>2016-08-21 11:26:27</td>\n",
       "      <td>NaN</td>\n",
       "      <td>NaN</td>\n",
       "      <td>NaN</td>\n",
       "      <td>0</td>\n",
       "      <td>NaN</td>\n",
       "      <td>NaN</td>\n",
       "      <td>caipu/601005.jpg</td>\n",
       "      <td>1579</td>\n",
       "      <td>40</td>\n",
       "    </tr>\n",
       "    <tr>\n",
       "      <th>9</th>\n",
       "      <td>3109</td>\n",
       "      <td>431</td>\n",
       "      <td>609992</td>\n",
       "      <td>NaN</td>\n",
       "      <td>NaN</td>\n",
       "      <td>番茄炖牛腩\\r\\n\\r\\n\\r\\n</td>\n",
       "      <td>0</td>\n",
       "      <td>1</td>\n",
       "      <td>35</td>\n",
       "      <td>NaN</td>\n",
       "      <td>2016-08-21 11:27:14</td>\n",
       "      <td>NaN</td>\n",
       "      <td>NaN</td>\n",
       "      <td>NaN</td>\n",
       "      <td>0</td>\n",
       "      <td>NaN</td>\n",
       "      <td>NaN</td>\n",
       "      <td>caipu/201002.jpg</td>\n",
       "      <td>1579</td>\n",
       "      <td>35</td>\n",
       "    </tr>\n",
       "  </tbody>\n",
       "</table>\n",
       "</div>"
      ],
      "text/plain": [
       "   detail_id  order_id  dishes_id  logicprn_name  parent_class_name  \\\n",
       "0       3085       431     609966            NaN                NaN   \n",
       "1       3086       431     609942            NaN                NaN   \n",
       "2       3088       431     609970            NaN                NaN   \n",
       "3       3091       431     609956            NaN                NaN   \n",
       "4       3094       431     609957            NaN                NaN   \n",
       "5       3099       431     610003            NaN                NaN   \n",
       "6       3102       431     610027            NaN                NaN   \n",
       "7       3106       431     610072            NaN                NaN   \n",
       "8       3104       431     610011            NaN                NaN   \n",
       "9       3109       431     609992            NaN                NaN   \n",
       "\n",
       "         dishes_name  itemis_add  counts  amounts  cost    place_order_time  \\\n",
       "0           芝士烩波士顿龙虾           0       1      175   NaN 2016-08-21 11:16:07   \n",
       "1               辣炒鱿鱼           0       1       58   NaN 2016-08-21 11:17:32   \n",
       "2              麻辣小龙虾           0       1       99   NaN 2016-08-21 11:18:49   \n",
       "3               孜然羊排           0       1       88   NaN 2016-08-21 11:20:33   \n",
       "4  蒙古烤羊腿\\r\\n\\r\\n\\r\\n           0       1       48   NaN 2016-08-21 11:20:36   \n",
       "5                蒜香包           0       1       13   NaN 2016-08-21 11:23:24   \n",
       "6              清炒菊花菜           0       1       30   NaN 2016-08-21 11:25:48   \n",
       "7              53度茅台           0       1      128   NaN 2016-08-21 11:26:24   \n",
       "8              白饭/大碗           0       4       10   NaN 2016-08-21 11:26:27   \n",
       "9  番茄炖牛腩\\r\\n\\r\\n\\r\\n           0       1       35   NaN 2016-08-21 11:27:14   \n",
       "\n",
       "   discount_amt  discount_reason  kick_back  add_inprice  add_info  bar_code  \\\n",
       "0           NaN              NaN        NaN            0       NaN       NaN   \n",
       "1           NaN              NaN        NaN            0       NaN       NaN   \n",
       "2           NaN              NaN        NaN            0       NaN       NaN   \n",
       "3           NaN              NaN        NaN            0       NaN       NaN   \n",
       "4           NaN              NaN        NaN            0       NaN       NaN   \n",
       "5           NaN              NaN        NaN            0       NaN       NaN   \n",
       "6           NaN              NaN        NaN            0       NaN       NaN   \n",
       "7           NaN              NaN        NaN            0       NaN       NaN   \n",
       "8           NaN              NaN        NaN            0       NaN       NaN   \n",
       "9           NaN              NaN        NaN            0       NaN       NaN   \n",
       "\n",
       "       picture_file  emp_id  pay  \n",
       "0  caipu/101001.jpg    1579  175  \n",
       "1  caipu/103003.jpg    1579   58  \n",
       "2  caipu/101006.jpg    1579   99  \n",
       "3  caipu/202002.jpg    1579   88  \n",
       "4  caipu/202003.jpg    1579   48  \n",
       "5  caipu/503002.jpg    1579   13  \n",
       "6  caipu/304001.jpg    1579   30  \n",
       "7  caipu/401005.jpg    1579  128  \n",
       "8  caipu/601005.jpg    1579   40  \n",
       "9  caipu/201002.jpg    1579   35  "
      ]
     },
     "execution_count": 428,
     "metadata": {},
     "output_type": "execute_result"
    }
   ],
   "source": [
    "df"
   ]
  },
  {
   "cell_type": "code",
   "execution_count": 429,
   "metadata": {},
   "outputs": [],
   "source": [
    "df.loc[df.shape[0]] = [3106,431,610073,np.NaN,np.NaN,'哇哈哈',0,1,5,np.nan,'2016-08-21 11:26:40',np.nan,np.nan,np.nan,0,np.nan,np.nan,'caipu/401006.jpg',1579,5]"
   ]
  },
  {
   "cell_type": "code",
   "execution_count": 431,
   "metadata": {},
   "outputs": [
    {
     "data": {
      "text/html": [
       "<div>\n",
       "<style scoped>\n",
       "    .dataframe tbody tr th:only-of-type {\n",
       "        vertical-align: middle;\n",
       "    }\n",
       "\n",
       "    .dataframe tbody tr th {\n",
       "        vertical-align: top;\n",
       "    }\n",
       "\n",
       "    .dataframe thead th {\n",
       "        text-align: right;\n",
       "    }\n",
       "</style>\n",
       "<table border=\"1\" class=\"dataframe\">\n",
       "  <thead>\n",
       "    <tr style=\"text-align: right;\">\n",
       "      <th></th>\n",
       "      <th>detail_id</th>\n",
       "      <th>order_id</th>\n",
       "      <th>dishes_id</th>\n",
       "      <th>logicprn_name</th>\n",
       "      <th>parent_class_name</th>\n",
       "      <th>dishes_name</th>\n",
       "      <th>itemis_add</th>\n",
       "      <th>counts</th>\n",
       "      <th>amounts</th>\n",
       "      <th>cost</th>\n",
       "      <th>place_order_time</th>\n",
       "      <th>discount_amt</th>\n",
       "      <th>discount_reason</th>\n",
       "      <th>kick_back</th>\n",
       "      <th>add_inprice</th>\n",
       "      <th>add_info</th>\n",
       "      <th>bar_code</th>\n",
       "      <th>picture_file</th>\n",
       "      <th>emp_id</th>\n",
       "      <th>pay</th>\n",
       "    </tr>\n",
       "  </thead>\n",
       "  <tbody>\n",
       "    <tr>\n",
       "      <th>0</th>\n",
       "      <td>3085</td>\n",
       "      <td>431</td>\n",
       "      <td>609966</td>\n",
       "      <td>NaN</td>\n",
       "      <td>NaN</td>\n",
       "      <td>芝士烩波士顿龙虾</td>\n",
       "      <td>0</td>\n",
       "      <td>1</td>\n",
       "      <td>175</td>\n",
       "      <td>NaN</td>\n",
       "      <td>2016-08-21 11:16:07</td>\n",
       "      <td>NaN</td>\n",
       "      <td>NaN</td>\n",
       "      <td>NaN</td>\n",
       "      <td>0</td>\n",
       "      <td>NaN</td>\n",
       "      <td>NaN</td>\n",
       "      <td>caipu/101001.jpg</td>\n",
       "      <td>1579</td>\n",
       "      <td>175</td>\n",
       "    </tr>\n",
       "    <tr>\n",
       "      <th>1</th>\n",
       "      <td>3086</td>\n",
       "      <td>431</td>\n",
       "      <td>609942</td>\n",
       "      <td>NaN</td>\n",
       "      <td>NaN</td>\n",
       "      <td>辣炒鱿鱼</td>\n",
       "      <td>0</td>\n",
       "      <td>1</td>\n",
       "      <td>58</td>\n",
       "      <td>NaN</td>\n",
       "      <td>2016-08-21 11:17:32</td>\n",
       "      <td>NaN</td>\n",
       "      <td>NaN</td>\n",
       "      <td>NaN</td>\n",
       "      <td>0</td>\n",
       "      <td>NaN</td>\n",
       "      <td>NaN</td>\n",
       "      <td>caipu/103003.jpg</td>\n",
       "      <td>1579</td>\n",
       "      <td>58</td>\n",
       "    </tr>\n",
       "    <tr>\n",
       "      <th>2</th>\n",
       "      <td>3088</td>\n",
       "      <td>431</td>\n",
       "      <td>609970</td>\n",
       "      <td>NaN</td>\n",
       "      <td>NaN</td>\n",
       "      <td>麻辣小龙虾</td>\n",
       "      <td>0</td>\n",
       "      <td>1</td>\n",
       "      <td>99</td>\n",
       "      <td>NaN</td>\n",
       "      <td>2016-08-21 11:18:49</td>\n",
       "      <td>NaN</td>\n",
       "      <td>NaN</td>\n",
       "      <td>NaN</td>\n",
       "      <td>0</td>\n",
       "      <td>NaN</td>\n",
       "      <td>NaN</td>\n",
       "      <td>caipu/101006.jpg</td>\n",
       "      <td>1579</td>\n",
       "      <td>99</td>\n",
       "    </tr>\n",
       "    <tr>\n",
       "      <th>3</th>\n",
       "      <td>3091</td>\n",
       "      <td>431</td>\n",
       "      <td>609956</td>\n",
       "      <td>NaN</td>\n",
       "      <td>NaN</td>\n",
       "      <td>孜然羊排</td>\n",
       "      <td>0</td>\n",
       "      <td>1</td>\n",
       "      <td>88</td>\n",
       "      <td>NaN</td>\n",
       "      <td>2016-08-21 11:20:33</td>\n",
       "      <td>NaN</td>\n",
       "      <td>NaN</td>\n",
       "      <td>NaN</td>\n",
       "      <td>0</td>\n",
       "      <td>NaN</td>\n",
       "      <td>NaN</td>\n",
       "      <td>caipu/202002.jpg</td>\n",
       "      <td>1579</td>\n",
       "      <td>88</td>\n",
       "    </tr>\n",
       "    <tr>\n",
       "      <th>4</th>\n",
       "      <td>3094</td>\n",
       "      <td>431</td>\n",
       "      <td>609957</td>\n",
       "      <td>NaN</td>\n",
       "      <td>NaN</td>\n",
       "      <td>蒙古烤羊腿\\r\\n\\r\\n\\r\\n</td>\n",
       "      <td>0</td>\n",
       "      <td>1</td>\n",
       "      <td>48</td>\n",
       "      <td>NaN</td>\n",
       "      <td>2016-08-21 11:20:36</td>\n",
       "      <td>NaN</td>\n",
       "      <td>NaN</td>\n",
       "      <td>NaN</td>\n",
       "      <td>0</td>\n",
       "      <td>NaN</td>\n",
       "      <td>NaN</td>\n",
       "      <td>caipu/202003.jpg</td>\n",
       "      <td>1579</td>\n",
       "      <td>48</td>\n",
       "    </tr>\n",
       "    <tr>\n",
       "      <th>5</th>\n",
       "      <td>3099</td>\n",
       "      <td>431</td>\n",
       "      <td>610003</td>\n",
       "      <td>NaN</td>\n",
       "      <td>NaN</td>\n",
       "      <td>蒜香包</td>\n",
       "      <td>0</td>\n",
       "      <td>1</td>\n",
       "      <td>13</td>\n",
       "      <td>NaN</td>\n",
       "      <td>2016-08-21 11:23:24</td>\n",
       "      <td>NaN</td>\n",
       "      <td>NaN</td>\n",
       "      <td>NaN</td>\n",
       "      <td>0</td>\n",
       "      <td>NaN</td>\n",
       "      <td>NaN</td>\n",
       "      <td>caipu/503002.jpg</td>\n",
       "      <td>1579</td>\n",
       "      <td>13</td>\n",
       "    </tr>\n",
       "    <tr>\n",
       "      <th>6</th>\n",
       "      <td>3102</td>\n",
       "      <td>431</td>\n",
       "      <td>610027</td>\n",
       "      <td>NaN</td>\n",
       "      <td>NaN</td>\n",
       "      <td>清炒菊花菜</td>\n",
       "      <td>0</td>\n",
       "      <td>1</td>\n",
       "      <td>30</td>\n",
       "      <td>NaN</td>\n",
       "      <td>2016-08-21 11:25:48</td>\n",
       "      <td>NaN</td>\n",
       "      <td>NaN</td>\n",
       "      <td>NaN</td>\n",
       "      <td>0</td>\n",
       "      <td>NaN</td>\n",
       "      <td>NaN</td>\n",
       "      <td>caipu/304001.jpg</td>\n",
       "      <td>1579</td>\n",
       "      <td>30</td>\n",
       "    </tr>\n",
       "    <tr>\n",
       "      <th>7</th>\n",
       "      <td>3106</td>\n",
       "      <td>431</td>\n",
       "      <td>610072</td>\n",
       "      <td>NaN</td>\n",
       "      <td>NaN</td>\n",
       "      <td>53度茅台</td>\n",
       "      <td>0</td>\n",
       "      <td>1</td>\n",
       "      <td>128</td>\n",
       "      <td>NaN</td>\n",
       "      <td>2016-08-21 11:26:24</td>\n",
       "      <td>NaN</td>\n",
       "      <td>NaN</td>\n",
       "      <td>NaN</td>\n",
       "      <td>0</td>\n",
       "      <td>NaN</td>\n",
       "      <td>NaN</td>\n",
       "      <td>caipu/401005.jpg</td>\n",
       "      <td>1579</td>\n",
       "      <td>128</td>\n",
       "    </tr>\n",
       "    <tr>\n",
       "      <th>8</th>\n",
       "      <td>3104</td>\n",
       "      <td>431</td>\n",
       "      <td>610011</td>\n",
       "      <td>NaN</td>\n",
       "      <td>NaN</td>\n",
       "      <td>白饭/大碗</td>\n",
       "      <td>0</td>\n",
       "      <td>4</td>\n",
       "      <td>10</td>\n",
       "      <td>NaN</td>\n",
       "      <td>2016-08-21 11:26:27</td>\n",
       "      <td>NaN</td>\n",
       "      <td>NaN</td>\n",
       "      <td>NaN</td>\n",
       "      <td>0</td>\n",
       "      <td>NaN</td>\n",
       "      <td>NaN</td>\n",
       "      <td>caipu/601005.jpg</td>\n",
       "      <td>1579</td>\n",
       "      <td>40</td>\n",
       "    </tr>\n",
       "    <tr>\n",
       "      <th>9</th>\n",
       "      <td>3109</td>\n",
       "      <td>431</td>\n",
       "      <td>609992</td>\n",
       "      <td>NaN</td>\n",
       "      <td>NaN</td>\n",
       "      <td>番茄炖牛腩\\r\\n\\r\\n\\r\\n</td>\n",
       "      <td>0</td>\n",
       "      <td>1</td>\n",
       "      <td>35</td>\n",
       "      <td>NaN</td>\n",
       "      <td>2016-08-21 11:27:14</td>\n",
       "      <td>NaN</td>\n",
       "      <td>NaN</td>\n",
       "      <td>NaN</td>\n",
       "      <td>0</td>\n",
       "      <td>NaN</td>\n",
       "      <td>NaN</td>\n",
       "      <td>caipu/201002.jpg</td>\n",
       "      <td>1579</td>\n",
       "      <td>35</td>\n",
       "    </tr>\n",
       "    <tr>\n",
       "      <th>10</th>\n",
       "      <td>3106</td>\n",
       "      <td>431</td>\n",
       "      <td>610073</td>\n",
       "      <td>NaN</td>\n",
       "      <td>NaN</td>\n",
       "      <td>哇哈哈</td>\n",
       "      <td>0</td>\n",
       "      <td>1</td>\n",
       "      <td>5</td>\n",
       "      <td>NaN</td>\n",
       "      <td>2016-08-21 11:26:40</td>\n",
       "      <td>NaN</td>\n",
       "      <td>NaN</td>\n",
       "      <td>NaN</td>\n",
       "      <td>0</td>\n",
       "      <td>NaN</td>\n",
       "      <td>NaN</td>\n",
       "      <td>caipu/401006.jpg</td>\n",
       "      <td>1579</td>\n",
       "      <td>5</td>\n",
       "    </tr>\n",
       "  </tbody>\n",
       "</table>\n",
       "</div>"
      ],
      "text/plain": [
       "    detail_id  order_id  dishes_id  logicprn_name  parent_class_name  \\\n",
       "0        3085       431     609966            NaN                NaN   \n",
       "1        3086       431     609942            NaN                NaN   \n",
       "2        3088       431     609970            NaN                NaN   \n",
       "3        3091       431     609956            NaN                NaN   \n",
       "4        3094       431     609957            NaN                NaN   \n",
       "5        3099       431     610003            NaN                NaN   \n",
       "6        3102       431     610027            NaN                NaN   \n",
       "7        3106       431     610072            NaN                NaN   \n",
       "8        3104       431     610011            NaN                NaN   \n",
       "9        3109       431     609992            NaN                NaN   \n",
       "10       3106       431     610073            NaN                NaN   \n",
       "\n",
       "          dishes_name  itemis_add  counts  amounts  cost     place_order_time  \\\n",
       "0            芝士烩波士顿龙虾           0       1      175   NaN  2016-08-21 11:16:07   \n",
       "1                辣炒鱿鱼           0       1       58   NaN  2016-08-21 11:17:32   \n",
       "2               麻辣小龙虾           0       1       99   NaN  2016-08-21 11:18:49   \n",
       "3                孜然羊排           0       1       88   NaN  2016-08-21 11:20:33   \n",
       "4   蒙古烤羊腿\\r\\n\\r\\n\\r\\n           0       1       48   NaN  2016-08-21 11:20:36   \n",
       "5                 蒜香包           0       1       13   NaN  2016-08-21 11:23:24   \n",
       "6               清炒菊花菜           0       1       30   NaN  2016-08-21 11:25:48   \n",
       "7               53度茅台           0       1      128   NaN  2016-08-21 11:26:24   \n",
       "8               白饭/大碗           0       4       10   NaN  2016-08-21 11:26:27   \n",
       "9   番茄炖牛腩\\r\\n\\r\\n\\r\\n           0       1       35   NaN  2016-08-21 11:27:14   \n",
       "10                哇哈哈           0       1        5   NaN  2016-08-21 11:26:40   \n",
       "\n",
       "    discount_amt  discount_reason  kick_back  add_inprice  add_info  bar_code  \\\n",
       "0            NaN              NaN        NaN            0       NaN       NaN   \n",
       "1            NaN              NaN        NaN            0       NaN       NaN   \n",
       "2            NaN              NaN        NaN            0       NaN       NaN   \n",
       "3            NaN              NaN        NaN            0       NaN       NaN   \n",
       "4            NaN              NaN        NaN            0       NaN       NaN   \n",
       "5            NaN              NaN        NaN            0       NaN       NaN   \n",
       "6            NaN              NaN        NaN            0       NaN       NaN   \n",
       "7            NaN              NaN        NaN            0       NaN       NaN   \n",
       "8            NaN              NaN        NaN            0       NaN       NaN   \n",
       "9            NaN              NaN        NaN            0       NaN       NaN   \n",
       "10           NaN              NaN        NaN            0       NaN       NaN   \n",
       "\n",
       "        picture_file  emp_id  pay  \n",
       "0   caipu/101001.jpg    1579  175  \n",
       "1   caipu/103003.jpg    1579   58  \n",
       "2   caipu/101006.jpg    1579   99  \n",
       "3   caipu/202002.jpg    1579   88  \n",
       "4   caipu/202003.jpg    1579   48  \n",
       "5   caipu/503002.jpg    1579   13  \n",
       "6   caipu/304001.jpg    1579   30  \n",
       "7   caipu/401005.jpg    1579  128  \n",
       "8   caipu/601005.jpg    1579   40  \n",
       "9   caipu/201002.jpg    1579   35  \n",
       "10  caipu/401006.jpg    1579    5  "
      ]
     },
     "execution_count": 431,
     "metadata": {},
     "output_type": "execute_result"
    }
   ],
   "source": [
    "# df.shape[0]\n",
    "df"
   ]
  },
  {
   "cell_type": "markdown",
   "metadata": {},
   "source": [
    "#### 对df描述性统计分析\n",
    "- 对数值进行统计【基于numpy实现的，所以以下函数同理可通过np.func()实现】\n",
    "    - df.describe()：描述性统计（常用）\n",
    "    - df.max/min/mean/median/mod()：最大/小值、平均值、中位数、众数\n",
    "    - df.std/var/cov()：标准差、方差、协方差"
   ]
  },
  {
   "cell_type": "code",
   "execution_count": 451,
   "metadata": {},
   "outputs": [
    {
     "name": "stdout",
     "output_type": "stream",
     "text": [
      "178 --->\n"
     ]
    },
    {
     "data": {
      "text/plain": [
       "0    35\n",
       "dtype: int64"
      ]
     },
     "execution_count": 451,
     "metadata": {},
     "output_type": "execute_result"
    }
   ],
   "source": [
    "print(mealInfo['amounts'].max(),'--->',)\n",
    "# mealInfo[mealInfo['amounts']==mealInfo['amounts'].min()]['dishes_name']\n",
    "a= mealInfo['amounts'].mode()\n",
    "#mode返回的是排好序的DateFrame，因为众数可能出现多个\n",
    "a"
   ]
  },
  {
   "cell_type": "code",
   "execution_count": 453,
   "metadata": {},
   "outputs": [
    {
     "data": {
      "text/html": [
       "<div>\n",
       "<style scoped>\n",
       "    .dataframe tbody tr th:only-of-type {\n",
       "        vertical-align: middle;\n",
       "    }\n",
       "\n",
       "    .dataframe tbody tr th {\n",
       "        vertical-align: top;\n",
       "    }\n",
       "\n",
       "    .dataframe thead th {\n",
       "        text-align: right;\n",
       "    }\n",
       "</style>\n",
       "<table border=\"1\" class=\"dataframe\">\n",
       "  <thead>\n",
       "    <tr style=\"text-align: right;\">\n",
       "      <th></th>\n",
       "      <th>amounts</th>\n",
       "      <th>counts</th>\n",
       "    </tr>\n",
       "  </thead>\n",
       "  <tbody>\n",
       "    <tr>\n",
       "      <th>count</th>\n",
       "      <td>3611.000000</td>\n",
       "      <td>3611.000000</td>\n",
       "    </tr>\n",
       "    <tr>\n",
       "      <th>mean</th>\n",
       "      <td>44.748823</td>\n",
       "      <td>1.104403</td>\n",
       "    </tr>\n",
       "    <tr>\n",
       "      <th>std</th>\n",
       "      <td>35.698775</td>\n",
       "      <td>0.600471</td>\n",
       "    </tr>\n",
       "    <tr>\n",
       "      <th>min</th>\n",
       "      <td>1.000000</td>\n",
       "      <td>1.000000</td>\n",
       "    </tr>\n",
       "    <tr>\n",
       "      <th>25%</th>\n",
       "      <td>22.500000</td>\n",
       "      <td>1.000000</td>\n",
       "    </tr>\n",
       "    <tr>\n",
       "      <th>50%</th>\n",
       "      <td>35.000000</td>\n",
       "      <td>1.000000</td>\n",
       "    </tr>\n",
       "    <tr>\n",
       "      <th>75%</th>\n",
       "      <td>56.000000</td>\n",
       "      <td>1.000000</td>\n",
       "    </tr>\n",
       "    <tr>\n",
       "      <th>max</th>\n",
       "      <td>178.000000</td>\n",
       "      <td>10.000000</td>\n",
       "    </tr>\n",
       "  </tbody>\n",
       "</table>\n",
       "</div>"
      ],
      "text/plain": [
       "           amounts       counts\n",
       "count  3611.000000  3611.000000\n",
       "mean     44.748823     1.104403\n",
       "std      35.698775     0.600471\n",
       "min       1.000000     1.000000\n",
       "25%      22.500000     1.000000\n",
       "50%      35.000000     1.000000\n",
       "75%      56.000000     1.000000\n",
       "max     178.000000    10.000000"
      ]
     },
     "execution_count": 453,
     "metadata": {},
     "output_type": "execute_result"
    }
   ],
   "source": [
    "mealInfo[['amounts','counts']].describe()"
   ]
  },
  {
   "cell_type": "markdown",
   "metadata": {},
   "source": [
    "- 基于类别的描述性统计\n",
    "    - 统计频数value_counts()\n",
    "    - 将目标数据的类型转为category类型，describe支持对category类型数据进行描述性统计\n",
    "        - 利用astype('category')方法转换"
   ]
  },
  {
   "cell_type": "code",
   "execution_count": 458,
   "metadata": {},
   "outputs": [
    {
     "data": {
      "text/plain": [
       "白饭/大碗                109\n",
       "凉拌菠菜                  99\n",
       "谷稻小庄                  84\n",
       "麻辣小龙虾                 77\n",
       "辣炒鱿鱼                  70\n",
       "芝士烩波士顿龙虾              70\n",
       "香酥两吃大虾                67\n",
       "水煮鱼                   59\n",
       "白饭/小碗                 58\n",
       "焖猪手                   57\n",
       "五色糯米饭(七色)             55\n",
       "蒙古烤羊腿\\r\\n\\r\\n\\r\\n     49\n",
       "凉拌蒜蓉西兰花               49\n",
       "西瓜胡萝卜沙拉               48\n",
       "清蒸海鱼                  48\n",
       "自制猪肉脯                 46\n",
       "炝炒大白菜                 46\n",
       "美妙绝伦之白莲花              45\n",
       "意文柠檬汁                 44\n",
       "香烤牛排\\r\\n\\r\\n\\r\\n      44\n",
       "油焖麻辣虾                 44\n",
       "番茄炖牛腩\\r\\n\\r\\n\\r\\n     43\n",
       "孜然羊排                  42\n",
       "白胡椒胡萝卜羊肉汤             41\n",
       "爆炒猪肝                  41\n",
       "桂圆肉红豆八宝饭              40\n",
       "剁椒鱼头                  40\n",
       "糖醋蕃茄溜青花               37\n",
       "清蒸蝶鱼                  37\n",
       "芹菜炒腰花                 36\n",
       "                    ... \n",
       " 42度海之蓝                8\n",
       "酸辣汤面                   8\n",
       "特醇嘉士伯啤酒罐装              7\n",
       "牛奶卷                    7\n",
       "咖啡奶香面包                 7\n",
       "快炒黄鳝                   7\n",
       "小炒羊腰\\r\\n\\r\\n\\r\\n       7\n",
       "52度泸州老窖                6\n",
       "长城窖酿解百纳红酒干红葡萄酒         6\n",
       "百威啤酒罐装                 6\n",
       "鲜美鳝鱼                   6\n",
       "广式虾仁肠粉                 6\n",
       "番茄炖牛腩\\r\\n              6\n",
       "凉拌海带豆芽紫菜               5\n",
       "鸡蛋、肉末肠粉                5\n",
       "香烤牛排\\r\\n               5\n",
       "土豆西红柿汤面                5\n",
       "玉竹南北杏鸭腿汤               5\n",
       "宝宝版牛肉肠粉                4\n",
       "三丝鳝鱼                   4\n",
       "党参黄芪炖牛尾\\r\\n            4\n",
       "照烧鸡腿\\r\\n               4\n",
       "芹黄鳝丝                   3\n",
       "红酒土豆烧鸭腿\\r\\n            2\n",
       "小炒羊腰\\r\\n               2\n",
       "百里香奶油烤紅酒牛肉             2\n",
       "独家薄荷鲜虾牛肉卷\\r\\n          2\n",
       "五香酱驴肉\\r\\n              1\n",
       "蒙古烤羊腿\\r\\n              1\n",
       "香辣爆羊肝\\r\\n              1\n",
       "Name: dishes_name, Length: 154, dtype: int64"
      ]
     },
     "execution_count": 458,
     "metadata": {},
     "output_type": "execute_result"
    }
   ],
   "source": [
    "mealInfo['dishes_name'].value_counts()"
   ]
  },
  {
   "cell_type": "code",
   "execution_count": 464,
   "metadata": {},
   "outputs": [
    {
     "data": {
      "text/plain": [
       "count      3611\n",
       "unique      154\n",
       "top       白饭/大碗\n",
       "freq        109\n",
       "Name: dishes_name, dtype: object"
      ]
     },
     "execution_count": 464,
     "metadata": {},
     "output_type": "execute_result"
    }
   ],
   "source": [
    "mealInfo['dishes_name'] = mealInfo['dishes_name'].astype('category')\n",
    "# mealInfo['dishes_name'].dtypes\n",
    "mealInfo['dishes_name'].describe()\n",
    "#count:非空数据数目\n",
    "#unique:有多少类别\n",
    "#top:数目最多的类别\n",
    "#freq:top的次数"
   ]
  }
 ],
 "metadata": {
  "celltoolbar": "Tags",
  "kernelspec": {
   "display_name": "Python 3",
   "language": "python",
   "name": "python3"
  },
  "language_info": {
   "codemirror_mode": {
    "name": "ipython",
    "version": 3
   },
   "file_extension": ".py",
   "mimetype": "text/x-python",
   "name": "python",
   "nbconvert_exporter": "python",
   "pygments_lexer": "ipython3",
   "version": "3.6.3"
  }
 },
 "nbformat": 4,
 "nbformat_minor": 2
}
